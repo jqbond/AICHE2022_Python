{
 "cells": [
  {
   "cell_type": "markdown",
   "metadata": {},
   "source": [
    "# Functions, D&D\n",
    "\n",
    "Functions are some of the most useful classes of objects in any high level programming language, and Python is no exception!  In very basic terms, a function accepts inputs, performs operations on them, and returns outputs.  The classic idea we all have of a function is something like y is a function of x for example,\n",
    "\n",
    "$$y(x) = 2x + 5$$\n",
    "\n",
    "This is a simple *univariate scalar* function. We call it univariate because it has only one argument (x).  We call it scalar because for a given input of x, it returns a single output value for y. But we will see in a moment that functions are far more general and flexible.  In Python, we follow a few important rules to define a function. \n",
    "\n",
    "## Function syntax\n",
    "\n",
    "To start, you declare a function with the **def** keyword, and you always use the following syntax:\n",
    "\n",
    "```python\n",
    "def function_name(inputs):\n",
    "```\n",
    "    \n",
    "Where `function_name` can be anything you want it to be, and `inputs` can be zero, one, or more arguments that you will provide to the function in order for it to perform its operations. Of the parts you see here, the only things that are non negotiable in a function definition are `def` and `:` \n",
    "\n",
    "**The next bit is important:** Every line after the first one in the function (the one with `def` and `:` in it), all the way up to the end of your function, *must be indented from the left margin*. This is the same syntax as `if` statements, `for` loops, and `while` loops. If a line is indented beyond the `def` keyword, that means that line is inside of the function's scope.  Once you return to the left margin, you are no longer writing code inside of that function. Python uses indentation to define a function scope instead of something like an **end** keyword that you see in many languages. In Python, indentation is what distinguishes a bit of code from being inside of a function (or loop) and being outside of that function (or loop). Typically a good editor will auto-indent the next line for you once it sees a : at the end of a line.  Jupyter, for example, does this by default.\n",
    "\n",
    "**It is also important to know**:  if you want a function to accept an input from you, you have to specify which inputs you will give it.  Conversely, if you want it to return an output, you will need to tell it which outputs to return.\n",
    "\n",
    "<div class = \"alert alert-block alert-info\">\n",
    "    <b>Note</b>: If you do not specify what the function returns in Python, it will return the last thing computed by the function as the default return.\n",
    "    </div>\n",
    "\n",
    "This is accomplished in the cell below.  It will create a function called `y1` that accepts an input, which is called `x` locally inside of the function. It uses that value of `x` to perform the required operations, and it returns the value of `result` as an output."
   ]
  },
  {
   "cell_type": "code",
   "execution_count": null,
   "metadata": {},
   "outputs": [],
   "source": [
    "import numpy as np\n",
    "import random\n",
    "import matplotlib.pyplot as plt    "
   ]
  },
  {
   "cell_type": "code",
   "execution_count": null,
   "metadata": {},
   "outputs": [],
   "source": [
    "def y1(x):\n",
    "    result = 2*x + 5\n",
    "    return result"
   ]
  },
  {
   "cell_type": "markdown",
   "metadata": {},
   "source": [
    "## It is helpful to think like a computer with functions"
   ]
  },
  {
   "cell_type": "code",
   "execution_count": null,
   "metadata": {},
   "outputs": [],
   "source": [
    "y1(10)\n",
    "%whos"
   ]
  },
  {
   "cell_type": "markdown",
   "metadata": {},
   "source": [
    "## Binding the output of a function to a variable\n"
   ]
  },
  {
   "cell_type": "code",
   "execution_count": null,
   "metadata": {},
   "outputs": [],
   "source": [
    "output = y1(10)\n",
    "%whos"
   ]
  },
  {
   "cell_type": "markdown",
   "metadata": {},
   "source": [
    "## Global by default, vs. local within scope\n",
    "\n",
    "If you define a variable in the workspace, it is global by default.  If you define a variable within a function scope, it is local by default.  This is important to know in order to understand the behavior of functions as you go between the workspace and the scope of that operation. "
   ]
  },
  {
   "cell_type": "code",
   "execution_count": null,
   "metadata": {},
   "outputs": [],
   "source": [
    "def y1(x):\n",
    "    result = 2*x + 5\n",
    "    return result\n",
    "output = y1(10)\n",
    "\n",
    "# print(y1(10))\n",
    "# print(result)"
   ]
  },
  {
   "cell_type": "markdown",
   "metadata": {},
   "source": [
    "## lambda functions\n",
    "\n",
    "Most languages will allow you to define an inline or anonymous function. In Python, these are called lambda functions. These are functions that you can write without going through the `def`, `:`, indent syntax outlined above. A key feature of a lambda function is that we do not have to bind it to a variable or function name (though you are not prevented from doing so)."
   ]
  },
  {
   "cell_type": "code",
   "execution_count": null,
   "metadata": {},
   "outputs": [],
   "source": [
    "y2 = lambda x: 2*x + 5\n",
    "y2(10)"
   ]
  },
  {
   "cell_type": "markdown",
   "metadata": {},
   "source": [
    "## Multivariate Functions\n",
    "\n",
    "We definitely need to learn how to create a function that takes more than one argument.  For example, we can define the following *multivariate* scalar function. We call it multivariate because it has multiple arguments (x,y), but it is scalar because it returns a single value of p for any (x,y) pair.\n",
    "\n",
    "$$p(x,y) = x^2 + y^2 + 10$$\n",
    "\n",
    "Using lambda function syntax:"
   ]
  },
  {
   "cell_type": "code",
   "execution_count": null,
   "metadata": {},
   "outputs": [],
   "source": [
    "p1 = lambda x, y: x**2 + y**2 + 10\n",
    "p1(10,10)"
   ]
  },
  {
   "cell_type": "markdown",
   "metadata": {},
   "source": [
    "Using the `def` keyword"
   ]
  },
  {
   "cell_type": "code",
   "execution_count": null,
   "metadata": {},
   "outputs": [],
   "source": [
    "def p2(x,y):\n",
    "    return x**2 + y**2 + 10\n",
    "p2(10, 10)"
   ]
  },
  {
   "cell_type": "markdown",
   "metadata": {},
   "source": [
    "## Broadcasting a function to elements in a collection\n",
    "\n",
    "This works with numpy arrays; it doesn't work with lists or tuples."
   ]
  },
  {
   "cell_type": "code",
   "execution_count": null,
   "metadata": {},
   "outputs": [],
   "source": [
    "xvals = np.linspace(0, 1, 10)  \n",
    "yvals = np.linspace(2, 5, 10)\n",
    "print(xvals)\n",
    "print(yvals)"
   ]
  },
  {
   "cell_type": "code",
   "execution_count": null,
   "metadata": {},
   "outputs": [],
   "source": [
    "print(y1(xvals))\n",
    "print(p2(xvals, yvals))"
   ]
  },
  {
   "cell_type": "markdown",
   "metadata": {},
   "source": [
    "## Wait...How would you do this with a list or a tuple anyway??\n"
   ]
  },
  {
   "cell_type": "code",
   "execution_count": null,
   "metadata": {},
   "outputs": [],
   "source": [
    "xlist = [1, 3, 7, 10]\n",
    "y1(xlist)"
   ]
  },
  {
   "cell_type": "code",
   "execution_count": null,
   "metadata": {},
   "outputs": [],
   "source": [
    "xlist = [1, 3, 7, 10]\n",
    "y_out = []\n",
    "for value in xlist:\n",
    "    y_out.append(y1(value))\n",
    "y_out"
   ]
  },
  {
   "cell_type": "code",
   "execution_count": null,
   "metadata": {},
   "outputs": [],
   "source": [
    "y_out = [y1(value) for value in xlist]\n",
    "y_out"
   ]
  },
  {
   "cell_type": "markdown",
   "metadata": {},
   "source": [
    "## More complex functions, multiple operations and outputs"
   ]
  },
  {
   "cell_type": "code",
   "execution_count": null,
   "metadata": {},
   "outputs": [],
   "source": [
    "def f(x, y, z):\n",
    "    A = x + y\n",
    "    B = A*5\n",
    "    C = z**3 + B\n",
    "    return A, B, C"
   ]
  },
  {
   "cell_type": "code",
   "execution_count": null,
   "metadata": {},
   "outputs": [],
   "source": [
    "print(f(1, 2, 3))\n",
    "%whos"
   ]
  },
  {
   "cell_type": "code",
   "execution_count": null,
   "metadata": {},
   "outputs": [],
   "source": [
    "A, B, C = f(1, 2, 3)  #We can get A, B, and C assigned separately this way.\n",
    "print(A, B, C)\n",
    "%whos"
   ]
  },
  {
   "cell_type": "markdown",
   "metadata": {},
   "source": [
    "## What is your Coat of Arms anyway\\? \n",
    "\n",
    "We're going to need polyhedral dice for this one. To start, let's import the random package by typing the following in the cell below."
   ]
  },
  {
   "cell_type": "code",
   "execution_count": null,
   "metadata": {},
   "outputs": [],
   "source": [
    "import random"
   ]
  },
  {
   "cell_type": "code",
   "execution_count": null,
   "metadata": {},
   "outputs": [],
   "source": [
    "random.randint(1,6)"
   ]
  },
  {
   "cell_type": "code",
   "execution_count": null,
   "metadata": {},
   "outputs": [],
   "source": [
    "roll = [random.randint(1,6) for i in range(0,15)]\n",
    "print(roll)\n",
    "print(len(roll))"
   ]
  },
  {
   "cell_type": "code",
   "execution_count": null,
   "metadata": {},
   "outputs": [],
   "source": [
    "def roller(sides, dice):\n",
    "    roll  = [random.randint(1, sides) for i in range(0, dice)]\n",
    "    return roll"
   ]
  },
  {
   "cell_type": "code",
   "execution_count": null,
   "metadata": {},
   "outputs": [],
   "source": [
    "roller(20, 6)"
   ]
  },
  {
   "cell_type": "code",
   "execution_count": null,
   "metadata": {},
   "outputs": [],
   "source": [
    "list1 = ['red', 'orange', 'blue', 'gold', 'cornflower', 'burnt sienna','umber', 'silver', 'electric purple', 'puce', 'cyan', 'magenta', 'mountain dew yellow', 'cheeto orange', 'green', 'yellow', 'azure', 'cornsilk', 'brown', 'teal']\n",
    "list2 = ['wolf', \"Pere David's deer\",'tasmanian tiger','tardigrade','komodo dragon', 'bass', 'falcon', 'chtulu', 'billy-bumbler', 'raccoon', 'koala bear', 'banty rooster', 'dire mouse', 'gazelle', 'moon bear', 'tepezcuintle', 'pudu deer', 'Gary the Capybara','dire mouse', 'three-toed sloth']\n",
    "list3 = [\"bridgewater\", \"kalimba\", \"acology\", \"whiskerine\", \"vespiform\", \"kitenge\", \"wold\", \"kinderspiel\", \"bodge\", \"yarder\", \"quisquous\", \"bucolic\", \"quarkonium\", \"diremption\",\"opacular\", \"raniform\", \"kapnography\", \"irenology\", \"xoanon\", \"electrophile\"]\n",
    "list4 = [\"Keoland\", \"Molvar\", \"Azure Sea\", \"The Barony of Derevendt\", \"The Bitter North\", \"The Bright Lands\", \"The Crystalmist Mountains\", \"The Duchy of Ulek\", \"Shibboleth\", \"The Rushmoors\", \"The Lost Caverns of Tsojcanth\", \"Gran March\", \"Greysmere\", \"The Free City of Greyhawk\", \"The Hool Marshes\", \"The Keep on the Borderlands\", \"The Icy Sea\", \"The Dreadwood\", \"Nulb\", \"Mount Sentvoor\"]"
   ]
  },
  {
   "cell_type": "code",
   "execution_count": null,
   "metadata": {},
   "outputs": [],
   "source": [
    "def COA_generator(sides, dice):\n",
    "    roll  = [random.randint(1, sides) for i in range(0, dice)]\n",
    "    index = [result - 1 for result in roll]\n",
    "    color        = list1[index[0]]\n",
    "    animal       = list2[index[1]]\n",
    "    attribute    = list3[index[2]]\n",
    "    kingdom      = list4[index[3]]\n",
    "    return roll, index, color, animal, attribute, kingdom\n",
    "\n",
    "roll, index, color, animal, attribute, kingdom  = COA_generator(20, 4)\n",
    "\n",
    "labels       = ['color', 'animal', 'attribute', 'kingdom']\n",
    "coat_of_arms = [color, animal, attribute, kingdom]\n",
    "\n",
    "print(f'Youre rolls were {roll}')\n",
    "print(f'This gives indices of {index}')\n",
    "print('Your coat of arms must include the following:')\n",
    "for label, detail in zip(labels, coat_of_arms):\n",
    "    print(f'    {label:9s} = {detail:s}')"
   ]
  }
 ],
 "metadata": {
  "kernelspec": {
   "display_name": "Python 3 (ipykernel)",
   "language": "python",
   "name": "python3"
  },
  "language_info": {
   "codemirror_mode": {
    "name": "ipython",
    "version": 3
   },
   "file_extension": ".py",
   "mimetype": "text/x-python",
   "name": "python",
   "nbconvert_exporter": "python",
   "pygments_lexer": "ipython3",
   "version": "3.9.13"
  }
 },
 "nbformat": 4,
 "nbformat_minor": 4
}
