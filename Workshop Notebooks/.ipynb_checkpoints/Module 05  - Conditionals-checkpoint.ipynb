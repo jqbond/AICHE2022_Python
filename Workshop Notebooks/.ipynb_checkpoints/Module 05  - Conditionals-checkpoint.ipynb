{
 "cells": [
  {
   "cell_type": "markdown",
   "metadata": {},
   "source": [
    "# Logical Tests and Comparisons\n",
    "\n",
    "One of the most important things we need to know how to do in processing various types of data is to make various logical comparisons, basically testing for whether a number, a string, a set, etc., satisfy some criteria that we want.\n",
    "\n",
    "## Booleans\n",
    "\n",
    "First, we need to understand a bit more about Boolean values, which we introduced in the first assignment on Scalars.  A boolean is a binary value that is either true or false. Booleans can be represented in Python is with the words:\n",
    "\n",
    "```python\n",
    "True\n",
    "False\n",
    "```\n",
    "    \n",
    "Commonly, this binary state is represented as a 1 for True and a 0 for False, but anything has a boolean value associated with it. In general terms, a value of 0, None, or any type of empty set (), [], {}, etc., converts to a boolean \"false\", and any else converts to a boolean \"true\".\n",
    "\n",
    "Let's just check what various types of collections and scalars evaluate as when we convert to booleans.  To do that, we'll use the bool() function, which converts any argument into its boolean equivalent.  You can try it out for various scalars and collections, with some prompts given below:\n",
    "\n",
    "```python\n",
    "bool(0)\n",
    "bool(1)\n",
    "bool([1])\n",
    "bool([])\n",
    "bool([10.0])\n",
    "bool({})\n",
    "bool('RTJ 3')\n",
    "```"
   ]
  },
  {
   "cell_type": "code",
   "execution_count": null,
   "metadata": {},
   "outputs": [],
   "source": []
  },
  {
   "cell_type": "markdown",
   "metadata": {},
   "source": [
    "## Comparison Operators\n",
    "\n",
    "Typically, we test the truth of a statement using a comparison operator.  These are familar concepts to everyone:\n",
    "\n",
    "* Greater Than\n",
    "* Less Than\n",
    "* Equal To\n",
    "* Greater Than or Equal To\n",
    "* Less Than or Equal To\n",
    "* Not Equal To\n",
    "\n",
    "In Python, these are expressed as:\n",
    "\n",
    "```python\n",
    ">        #Greater Than\n",
    "<        #Less Than\n",
    "==       #Equal To\n",
    ">=       #Greater Than or Equal To\n",
    "<=       #Less than or Equal To\n",
    "!=       #Not Equal To\n",
    "is       #Object Identity\n",
    "is not   #Negated Object Identity\n",
    "```\n",
    "    \n",
    "We use those comparison operators to test whether a condition is true or not.  These can be applied to scalars or lists in an almost infinite number of ways, but here are a few examples to try out and see what True or False values they return.\n",
    "\n",
    "```python\n",
    "10 > 5\n",
    "5  > 10\n",
    "10 == 10\n",
    "10 != 15\n",
    "type('Hello!') == str\n",
    "type('10') != float\n",
    "```"
   ]
  },
  {
   "cell_type": "code",
   "execution_count": null,
   "metadata": {},
   "outputs": [],
   "source": []
  },
  {
   "cell_type": "markdown",
   "metadata": {},
   "source": [
    "### Logical operators (and, or, not)\n",
    "\n",
    "Frequently, we have more than one criteria that we would like to test in order to determine if a condition is true or not. We can do this in a couple of ways. Python supports usage of logical operators **and**, **or**, and **not**.  For example:\n",
    "\n",
    "```python\n",
    "10 > 5  and 10 < 25\n",
    "10 > 15 and 10 < 25\n",
    "10 > 15 or  10 < 25\n",
    "10 > 15 or  29 < 25\n",
    "not 10 > 15\n",
    "not 15 > 10\n",
    "```"
   ]
  },
  {
   "cell_type": "code",
   "execution_count": null,
   "metadata": {},
   "outputs": [],
   "source": []
  },
  {
   "cell_type": "markdown",
   "metadata": {},
   "source": [
    "### Chaining comparisons\n",
    "\n",
    "We can also chain comparison operators as you might do when expressing a range concisely - expressions in these logical tests can get complicated if we need them to:\n",
    "\n",
    "```python\n",
    "z = 20\n",
    "10 < z <= 30\n",
    "10 < z <= 30 and type(z) == int\n",
    "10 < z <= 30 and type(z) == int or type(z) == float\n",
    "```"
   ]
  },
  {
   "cell_type": "code",
   "execution_count": null,
   "metadata": {},
   "outputs": [],
   "source": []
  },
  {
   "cell_type": "markdown",
   "metadata": {},
   "source": [
    "## Functions that use logical tests\n",
    "\n",
    "Be on the lookout for methods or functions that execute different types of common logical tests on sets or numbers.  For example:\n",
    "\n",
    "```python\n",
    "any()\n",
    "```\n",
    "\n",
    "Will check to determine if any element in a set is true, whereas:\n",
    "\n",
    "```python\n",
    "all()\n",
    "```\n",
    "    \n",
    "Will determine whether all elements of a set or true.\n",
    "\n",
    "```python\n",
    "isalpha()\n",
    "```\n",
    "\n",
    "is a method to determine if all of the characters in a string are letters or not. The syntax for isalpha is similar to list methods like append, pop, or sort.  It can only be used for strings, so, if I have a string:\n",
    "\n",
    "```python\n",
    "K = 'abcdefg'\n",
    "```\n",
    "    \n",
    "I can use isalpha() by typing:\n",
    "\n",
    "```python\n",
    "K.isalpha()\n",
    "```\n",
    "    \n",
    "Which will return True if all of the elements in K are letters.\n",
    "\n",
    "This goes back to the comment about Python being vast and powerful - there may be tools out there that help you to perform the test you are thinking about doing.  Don't be shy about looking for them.  Try out `any()`, `all()`, and `isalpha()` on the relevant lists/strings below."
   ]
  },
  {
   "cell_type": "code",
   "execution_count": 32,
   "metadata": {},
   "outputs": [],
   "source": [
    "A = [0,0,0,0,0,False,[]]\n",
    "B = [0,0,0,0,1,False,[]]\n",
    "C = [1,1,True,1,0,1,1]\n",
    "D = [1,1,True,1,1,1,1]\n",
    "K = 'abcdefg'\n",
    "M = 'abcdef3'"
   ]
  },
  {
   "cell_type": "markdown",
   "metadata": {},
   "source": [
    "## Controling flow\n",
    "\n",
    "These tests for truth become extremely useful in controlling the flow of your program.  Basically, we want tools that say \"execute this code when a certain thing is true; otherwise, do something else.\"\n",
    "\n",
    "We do that with if and while statements, which are two different types of conditional statements.\n",
    "\n",
    "An **if** statement will only evaluate the code inside if the condition(s) specified in that if statement are true.\n",
    "\n",
    "A **while** statement creates a loop that will evaluate cyclically as long as the conditions specified in the while statement is true.  While loops are covered in detail in Supplement 06.\n",
    "\n",
    "### If Statement\n",
    "\n",
    "In general, both types of statements will use one or more of the types of tests we discussed above, so in practice they will look like some of the following examples:\n",
    "\n",
    "```python\n",
    "Bowei = 'Great TA'\n",
    "if Bowei != 'Great TA':\n",
    "    print('Bowei is Not A Great TA!')\n",
    "```"
   ]
  },
  {
   "cell_type": "code",
   "execution_count": null,
   "metadata": {},
   "outputs": [],
   "source": []
  },
  {
   "cell_type": "markdown",
   "metadata": {},
   "source": [
    "### Elif and else statements\n",
    "\n",
    "Or the following categorization of A, which makes use of the `elif` and `else` keywords:\n",
    "\n",
    "```python\n",
    "A = 100\n",
    "if 5 < A < 35:\n",
    "    print(\"A is between 5 and 35!\")\n",
    "elif 35 < A < 70:\n",
    "    print(\"A is between 35 and 70!\")\n",
    "else:\n",
    "    print(\"A is higher than I can count\")\n",
    "```"
   ]
  },
  {
   "cell_type": "code",
   "execution_count": null,
   "metadata": {},
   "outputs": [],
   "source": []
  },
  {
   "cell_type": "markdown",
   "metadata": {},
   "source": [
    "This one will print a statement only if all of the characters in K are letters.\n",
    "\n",
    "```python\n",
    "if K.isalpha() == True:\n",
    "    print('All of the characters in K are letters')\n",
    "```"
   ]
  },
  {
   "cell_type": "code",
   "execution_count": null,
   "metadata": {},
   "outputs": [],
   "source": []
  },
  {
   "cell_type": "markdown",
   "metadata": {},
   "source": [
    "This one will wish me happy birthday once a year.\n",
    "\n",
    "```python\n",
    "import datetime\n",
    "x = datetime.datetime.now()\n",
    "if x.month == 5 and x.day == 28:\n",
    "    print(\"Happy Birthday Jesse!\")\n",
    "```"
   ]
  },
  {
   "cell_type": "code",
   "execution_count": null,
   "metadata": {},
   "outputs": [],
   "source": []
  },
  {
   "cell_type": "markdown",
   "metadata": {},
   "source": [
    "### A While Loop Example\n",
    "\n",
    "Here's a simple while loop that prints out all floating point decimals between 0.0 and 10.0 (in increments of 1.0).\n",
    "\n",
    "```python\n",
    "n = 0.0\n",
    "while n <= 10.0:\n",
    "    print(n)\n",
    "    n = n + 1.0\n",
    "```"
   ]
  },
  {
   "cell_type": "code",
   "execution_count": null,
   "metadata": {},
   "outputs": [],
   "source": []
  },
  {
   "cell_type": "markdown",
   "metadata": {},
   "source": [
    "### Nesting if statements in a while loop\n",
    "\n",
    "Finally, here's an example of a while loop with nested if statements. You can get very complex with the logical flow of your program!\n",
    "\n",
    "```python\n",
    "x = 0\n",
    "while x < 20:\n",
    "    if x < 10:\n",
    "        print('x is less than 10, it is', x)\n",
    "    elif x >= 10 & x < 20:\n",
    "        print('x is between 10 and 20, it is', x)\n",
    "    x += 1\n",
    "```"
   ]
  },
  {
   "cell_type": "code",
   "execution_count": null,
   "metadata": {},
   "outputs": [],
   "source": []
  },
  {
   "cell_type": "markdown",
   "metadata": {},
   "source": [
    "## Some Applications for Logical Tests\n",
    "\n",
    "Logical tests become extremely powerful when processing large data sets.  For example, let's just generate a set of 1000 random integers.  I am using pyplot for visualization. \n",
    "\n",
    "```python\n",
    "import matplotlib.pyplot as plt\n",
    "import random\n",
    "random.seed(1)\n",
    "X = list(range(0, 1000))\n",
    "A = [random.randint(-100,100) for i in X]\n",
    "plt.figure(1, figsize = (6, 6))\n",
    "plt.scatter(X, A, marker = 'o', color = 'none', edgecolor = 'blue')\n",
    "plt.xlim(0, 1000)\n",
    "plt.ylim(-100, 100)\n",
    "plt.title('1000 Random Integers between -100 and 100')\n",
    "plt.xlabel('Sample Index', fontsize = 14)\n",
    "plt.ylabel('Sample Value', fontsize = 14)\n",
    "plt.show()\n",
    "```"
   ]
  },
  {
   "cell_type": "code",
   "execution_count": null,
   "metadata": {},
   "outputs": [],
   "source": []
  },
  {
   "cell_type": "markdown",
   "metadata": {},
   "source": [
    "### Using Logical Tests to Only Retain Desired Data\n",
    "\n",
    "So let's pretend that data has just been handed off to us, and we didn't have flexibility in specifying its range when it was created.  Let's say that we are only interested in the values between 0 and 25.  We can easily extract a subset of those numbers using if statements (note also, this is not the only way to slice the data set, but it is one way you can use these tools).\n",
    "\n",
    "```python\n",
    "B = []\n",
    "for i in A:\n",
    "    if (i >= 0) and (i <= 25):\n",
    "        B.append(i)\n",
    "X2 = list(range(0, len(B))\n",
    "plt.figure(1, figsize = (6, 6))\n",
    "plt.scatter(X2, B, marker = 'o', color = 'none', edgecolor = 'blue')\n",
    "plt.xlim(0, 1000)\n",
    "plt.ylim(-100, 100)\n",
    "plt.title('1000 Random Integers between -100 and 100')\n",
    "plt.xlabel('Sample Index', fontsize = 14)\n",
    "plt.ylabel('Sample Value', fontsize = 14)\n",
    "plt.show()\n",
    "print(max(B))\n",
    "print(min(B))\n",
    "```"
   ]
  },
  {
   "cell_type": "code",
   "execution_count": 105,
   "metadata": {},
   "outputs": [
    {
     "data": {
      "image/png": "[encoded data removed]",
      "text/plain": [
       "<Figure size 432x432 with 1 Axes>"
      ]
     },
     "metadata": {
      "needs_background": "light"
     },
     "output_type": "display_data"
    },
    {
     "name": "stdout",
     "output_type": "stream",
     "text": [
      "Of the 1000 initial values, 118 are between 0 and 25\n",
      "The maximum value contained in B is 25\n",
      "The minimum value contained in B is 0\n"
     ]
    }
   ],
   "source": []
  },
  {
   "cell_type": "code",
   "execution_count": null,
   "metadata": {},
   "outputs": [],
   "source": []
  },
  {
   "cell_type": "markdown",
   "metadata": {},
   "source": [
    "### Boolean masks with numpy arrays\n",
    "\n",
    "If I'm working with numpy arrays, I would probably take advantage of their elementwise operations and do this by extracting all of the indices in the array where a condition is true.  For example, let's convert A into a numpy array and then we'll accomplish the same thing as the above loop with vectorized (element-wise) operations.\n",
    "\n",
    "```python\n",
    "import numpy as np\n",
    "Aarray = np.array(A)\n",
    "print(Aarray)\n",
    "```"
   ]
  },
  {
   "cell_type": "code",
   "execution_count": null,
   "metadata": {},
   "outputs": [],
   "source": []
  },
  {
   "cell_type": "markdown",
   "metadata": {},
   "source": [
    "This next bit of code creates what is called a \"Boolean mask,\" a set of Trues and Falses where the criteria I'm interested in are satisfied.  What I'm doing here will work with numpy arrays, but not with lists (you need to use a loop or a comprehension with lists).  You also need a bitwise and operator `&` instead of the `and` keyword here.\n",
    "\n",
    "```python\n",
    "index = (Aarray >= 0) & (Aarray <= 25)\n",
    "index\n",
    "```"
   ]
  },
  {
   "cell_type": "code",
   "execution_count": null,
   "metadata": {},
   "outputs": [],
   "source": []
  },
  {
   "cell_type": "markdown",
   "metadata": {},
   "source": [
    "Now you can pass that boolean mask as a set of indices to the array -- it will basically extract any value where the index is \"True,\" i.e., any value between 0 and 25. The code below overlays the results obtained with a loop and with a boolean mask using numpy arrays.  You'll see they are identical.\n",
    "\n",
    "```python\n",
    "Barray = Aarray[index]\n",
    "plt.figure(1, figsize = (6, 6))\n",
    "plt.scatter(X2, B, marker = 'o', color = 'none', edgecolor = 'red')\n",
    "plt.scatter(X2, Barray, marker = 's', color = 'none', edgecolor = 'blue')\n",
    "plt.xlim(0, len(B))\n",
    "plt.ylim(-100, 100)\n",
    "plt.title('Truncated set between 0 and 25')\n",
    "plt.xlabel('Sample Index', fontsize = 14)\n",
    "plt.ylabel('Sample Value', fontsize = 14)\n",
    "plt.show()\n",
    "print(f'Of the {len(A)} initial values, {len(Barray):d} are between 0 and 25')\n",
    "print(f'The maximum value contained in B is {max(Barray):d}')\n",
    "print(f'The minimum value contained in B is {min(Barray):d}')\n",
    "```"
   ]
  },
  {
   "cell_type": "code",
   "execution_count": null,
   "metadata": {},
   "outputs": [],
   "source": []
  }
 ],
 "metadata": {
  "kernelspec": {
   "display_name": "Python 3 (ipykernel)",
   "language": "python",
   "name": "python3"
  },
  "language_info": {
   "codemirror_mode": {
    "name": "ipython",
    "version": 3
   },
   "file_extension": ".py",
   "mimetype": "text/x-python",
   "name": "python",
   "nbconvert_exporter": "python",
   "pygments_lexer": "ipython3",
   "version": "3.9.13"
  }
 },
 "nbformat": 4,
 "nbformat_minor": 4
}
