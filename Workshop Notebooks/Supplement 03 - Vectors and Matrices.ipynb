{
 "cells": [
  {
   "cell_type": "markdown",
   "metadata": {},
   "source": [
    "# Matrices and Linear Algebra in Python\n",
    "\n",
    "The following exercises cover the basics of how you will create and work with \"matrices\" in Python.  Here, we will actually be working with ndarrays (numpy arrays).  For our purposes, we can generally treat them as matrices.\n",
    "\n",
    "## Numpy\n",
    "\n",
    "We need to learn how to build arrays of different sizes and shapes (generaly \"n-dimensional arrays\" or \"ndarrays\" in Python. We will do this using numpy arrays, so we'll have to import the numpy package.  I'm going to use the shorthand np to make it a bit less cumbersome.\n",
    "\n",
    "```python\n",
    "import numpy as np\n",
    "```"
   ]
  },
  {
   "cell_type": "code",
   "execution_count": null,
   "metadata": {},
   "outputs": [],
   "source": []
  },
  {
   "cell_type": "markdown",
   "metadata": {},
   "source": [
    "## Dimensions of numpy arrays\n",
    "\n",
    "Numpy arrays are a bit different than what you're used to working with in Matlab. Unless you take special steps to define a higher dimensional structure, pretty much everything in Matlab is treated as a matrix by default in that it has 2 dimensions: rows and columns.  Even a \"scalar\" in Matlab is a 1x1 matrix.  So, if you are coming to Python from Matlab, you're probably used to a language where everything has a row and column specification. Numpy is a little different.\n",
    "\n",
    "If we want to work with scalars, we define them as in Module 01:\n",
    "\n",
    "```python\n",
    "Scal = 10\n",
    "```\n",
    "    \n",
    "\"Row\" and \"Column\" vectors are a little different in Python (numpy). It is important to understand that rows ($1 \\times n$) and columns ($m \\times 1$) have 2 dimensions. A Row has 1 row and n columns, and a column has m rows and 1 column. Usually, we don't *actually* need a structure that has the true 2D shape of a row or a column. Unless we are doing something particular with a linear algebra operation, we probably aren't very concerned we aren't overly concerned about whether things are rows are columns, so we can typically get away with creating a 1 dimensional array. As with rows and columns, it is important to understand that, with a 1D array, there is only a length associated with it; it does not have a second dimension, so it is neither a row nor a column.  It is a 1 dimensional array--when I last worked in Matlab, there was no such thing as a 1D array, so this dimensionality was new to me in Python and thus confusing. \n",
    "\n",
    "We learned how to create arrays using numpy in Module 02. I would create a 1D array by passing a bracketed [list] of scalars into the `np.array()` constructor:\n",
    "\n",
    "```python\n",
    "A = np.array([1, 2, 3, 4])\n",
    "```"
   ]
  },
  {
   "cell_type": "code",
   "execution_count": null,
   "metadata": {},
   "outputs": [],
   "source": []
  },
  {
   "cell_type": "markdown",
   "metadata": {},
   "source": [
    "## Attributes of numpy arrays\n",
    "\n",
    "Now that we have created an array, there are some built in attributes of an array that we may be interested in accessing.  For example, if you want to know more about more about dimensionality, size and shape of that array, you can do so with the following array attributes, which are accessed using the notation `array_name.attribute_name`:\n",
    "\n",
    "```python\n",
    "A.size  #Returns the \"size\" of the array, i.e., the number of elements in it\n",
    "A.ndim  #Returns the number of dimensions; should be 1 here\n",
    "A.shape #Returns a tuple of dimensions (elements in 1st dimension (rows), elements in 2nd (columns), etc)\n",
    "```"
   ]
  },
  {
   "cell_type": "code",
   "execution_count": null,
   "metadata": {},
   "outputs": [],
   "source": []
  },
  {
   "cell_type": "markdown",
   "metadata": {},
   "source": [
    "## Creating a 2D numpy array\n",
    "\n",
    "As mentioned above, usually a 1D array like this will suffice in instances where we need to collect an array of scalars without a specific 2D shape to their layout or organization (where we might have used a row [1, 2, 3, 4] or a column [1; 2; 3; 4] in Matlab). If we ever need to create either a row or a column in Python, we have to remember that each of these things has a two dimensional shape associated with it.\n",
    "\n",
    "I rarely actually need to be particular about creating a row or a column in Python, but if you need to, you have to make sure you create a 2D array; this is done similar to creating a list of lists.  The general idea is that each \"row\" in the 2D structure you're building is comprised of a list of scalars. Basically, you need brackets inside of brackets to make a 2D array.\n",
    "\n",
    "```python\n",
    "row = np.array([[1, 2, 3, 4]])       #this is a row shape = (1,4)\n",
    "col = np.array([[1], [2], [3], [4]]) #this is a column with shape (4,1) \n",
    "```\n",
    "\n",
    "You should create the above listed row and column and check their size, shape, and ndimto confirm that they are behaving as 4-element (size) rows and columns; they should have two dimensions and be shape (1,4) and (4,1), respectively."
   ]
  },
  {
   "cell_type": "code",
   "execution_count": null,
   "metadata": {},
   "outputs": [],
   "source": []
  },
  {
   "cell_type": "markdown",
   "metadata": {},
   "source": [
    "## Matrices in Python\n",
    "\n",
    "Now that we know how to create a 2D array, it is pretty straightforward to create a matrix.  We basically do this by stacking rows together with a list-of-lists layout. Note again the bracket inside of brackets for a 2D system `np.array([[]])`:\n",
    "\n",
    "```python\n",
    "mat1 = np.array([[1, 2], [3, 4], [5, 6]])\n",
    "```\n",
    "\n",
    "Create this matrix and check is size, shape, and dimensionality to make sure it aligns with your understanding."
   ]
  },
  {
   "cell_type": "code",
   "execution_count": null,
   "metadata": {},
   "outputs": [],
   "source": []
  },
  {
   "cell_type": "markdown",
   "metadata": {},
   "source": [
    "## hstack and vstack\n",
    "\n",
    "Sometimes we need to stack rows or columns to create a matrix; we can do this with `np.vstack()` (stack rows) and `np.hstack()` (stack columns).\n",
    "\n",
    "```python\n",
    "mat2 = np.vstack([row, row])\n",
    "mat3 = np.hstack([col, col])\n",
    "```\n",
    "\n",
    "Again, you should confirm that this is creating structures that have the shapes you anticipate"
   ]
  },
  {
   "cell_type": "code",
   "execution_count": null,
   "metadata": {},
   "outputs": [],
   "source": []
  },
  {
   "cell_type": "markdown",
   "metadata": {},
   "source": [
    "## Linear Algebra\n",
    "\n",
    "I always struggle some in teaching Python because I am never actually teaching linear algebra, so I never want to go into a lot of detail about matrix/vector/row operations; however, my typical courses are in reactor design and kinetics, which both benefit from knowing linear algebra.  In addition, similar to Matlab, most of the numerical methods you'll want to use in Python will give you some output that is an array, so, in generaly, you do need to have a working understanding of arrays, dimensionality, and matrix operations in Python.\n",
    "\n",
    "### Transpose of an array\n",
    "\n",
    "You can transpose a numpy array by using either the `np.transpose()` function or the  transpose attribute (.T) of the numpy arary. These options are shown below for various rows, columns, and matrices.\n",
    "\n",
    "This will transpose a column into a row\n",
    "\n",
    "```python\n",
    "print(col)\n",
    "print(np.transpose(col))\n",
    "print(col.T)\n",
    "```\n",
    "\n",
    "This will transpose a matrix by switching rows and columns.\n",
    "\n",
    "```python\n",
    "print(mat1)\n",
    "print(mat1.T)\n",
    "print(np.transpose(mat1))\n",
    "```\n",
    "    \n",
    "Note that transpose require you to have an actual 2D structure (rows and columns at a minimum).  The transpose of a 1D structure is equal to itself.\n",
    "\n",
    "```python\n",
    "print(A)\n",
    "print(A.T)\n",
    "```"
   ]
  },
  {
   "cell_type": "code",
   "execution_count": null,
   "metadata": {},
   "outputs": [],
   "source": []
  },
  {
   "cell_type": "markdown",
   "metadata": {},
   "source": [
    "### Matrix Inversion\n",
    "\n",
    "Sometimes, we will need to find the inverse of a matrix.  We can do this in Python using `np.linalg.inv()` Note that only square, non-singular (i.e., the determinant is not zero) matrices are invertible.  Analogously, we can find the determinant of a matrix using the `np.linalg.det()`:\n",
    "\n",
    "```python\n",
    "square_mat = np.array([[1, 2, 3], [9, 10, 16], [7, 28, 3]]) #create a square matrix\n",
    "print(square_mat, '\\n')\n",
    "print(np.linalg.det(square_mat), '\\n') #determinant; is it nonzero? Then we can invert.\n",
    "print(np.linalg.inv(square_mat), '\\n') #invert matrix \n",
    "```\n",
    "\n",
    "```{note}Note that the '\\n' string in the print arguments tells it to print a new line.  \n",
    "```"
   ]
  },
  {
   "cell_type": "code",
   "execution_count": null,
   "metadata": {},
   "outputs": [],
   "source": []
  },
  {
   "cell_type": "markdown",
   "metadata": {},
   "source": [
    "## Indexing in Arrays\n",
    "\n",
    "When you work with arrays as your primary data type, you will frequently need to access or reference specific elements in those arrays. You do so by specifying their index in (row,column) format.  For example, if I wanted to see what was in the 3rd row, 2nd column in my mat1, I would do so by asking for that index as follows:\n",
    "\n",
    "    mat1[2,1]\n",
    "\n",
    "This would return the element in the third row (index 2) and second column (index 1)\n",
    "\n",
    "In addition, numpy arrays retain their list-like characteristics in terms of indexing, and I can also use the list-of-lists indexing structure to access a specific element. It is worth being familiar with both.\n",
    "\n",
    "    mat1[2][1]\n",
    "    \n",
    "This is a more list-like syntax that accesses the second element in the third list comprising mat1."
   ]
  },
  {
   "cell_type": "code",
   "execution_count": null,
   "metadata": {
    "scrolled": true
   },
   "outputs": [],
   "source": []
  },
  {
   "cell_type": "markdown",
   "metadata": {},
   "source": [
    "### Negative Indexing in Arrays\n",
    "\n",
    "Remember: Python supports negative indexing, so it is usually straightforward to extract the final element of a 1D array, row, column, or matrix. For example:\n",
    "\n",
    "```python\n",
    "A[-1]          #final element in 1D array\n",
    "col[-1, 0]     #final row in a column vector\n",
    "row[0, -1]     #final columin in a row vector\n",
    "mat3[2,-1]     #third row in the final column of a matrix\n",
    "mat1[-1,1]     #second column in the final row of a matrix\n",
    "mat2[-1, -1]   #final column in final row of a matrix\n",
    "```"
   ]
  },
  {
   "cell_type": "code",
   "execution_count": null,
   "metadata": {},
   "outputs": [],
   "source": []
  },
  {
   "cell_type": "markdown",
   "metadata": {},
   "source": [
    "### Slicing in arrays\n",
    "\n",
    "Next, we will introduce a few more  useful shorthands in Python; you should definitely be aware of these.  You can slice arrays and matrices by specifying ranges of indices.  For example, I'll create a 1D array that contains the numbers 5 through 14:\n",
    "\n",
    "```python\n",
    "numbers = np.array([5, 6, 7, 8, 9, 10, 11, 12, 13, 14])\n",
    "```"
   ]
  },
  {
   "cell_type": "code",
   "execution_count": null,
   "metadata": {},
   "outputs": [],
   "source": []
  },
  {
   "cell_type": "markdown",
   "metadata": {},
   "source": [
    "If I wanted to extract the first 4 elements (indices 0 to 3), I would type:\n",
    "\n",
    "```python\n",
    "numbers[0:4] #Remember, Python excludes the final index in this notation\n",
    "```"
   ]
  },
  {
   "cell_type": "code",
   "execution_count": null,
   "metadata": {},
   "outputs": [],
   "source": []
  },
  {
   "cell_type": "markdown",
   "metadata": {},
   "source": [
    "If I want to extract the last five elements (indices 5 to 9):\n",
    "\n",
    "```python\n",
    "numbers[5:] #With this notation, we return the last element\n",
    "```"
   ]
  },
  {
   "cell_type": "code",
   "execution_count": null,
   "metadata": {},
   "outputs": [],
   "source": []
  },
  {
   "cell_type": "markdown",
   "metadata": {},
   "source": [
    "## Automated array generation\n",
    "\n",
    "### Using Iterables\n",
    "\n",
    "You can generally create an array from any sort of iterable; if you're familiar with base python and the range function, you an quickly create an array of integers this way:\n",
    "\n",
    "```python\n",
    "numbers = np.array([range(0, 25, 2)]\n",
    "```"
   ]
  },
  {
   "cell_type": "code",
   "execution_count": null,
   "metadata": {},
   "outputs": [],
   "source": []
  },
  {
   "cell_type": "markdown",
   "metadata": {},
   "source": [
    "\n",
    "### `np.linspace()`\n",
    "\n",
    "Surely you'll notice that it is cumbersome to create rows, columns, and matrices by typing entries directly.  There are a few built functions in Python that can help out.  For example, let's say I want to create a 1D array of floating point numbers from 0 to 50, incrementing by 5 between each number.  The easiest way to do this is usually with `np.linspace()` \n",
    "\n",
    "It has the general syntax `np.linspace(lower, upper, number of elements)`\n",
    "\n",
    "For this example, the following will create the desired array of 11 numbers from 0 to 50 in steps of 5:\n",
    "\n",
    "```python\n",
    "fives = np.linspace(0, 50, 11)\n",
    "```\n",
    "\n",
    "This command returns a 1D array, which you can confirm with .shape, .size, and .ndim attributes. "
   ]
  },
  {
   "cell_type": "code",
   "execution_count": null,
   "metadata": {},
   "outputs": [],
   "source": []
  },
  {
   "cell_type": "markdown",
   "metadata": {},
   "source": [
    "### Default Number Format\n",
    "\n",
    "You should be aware that, by default, numpy will return floating point decimals when you use any of these convenience functions. In general, you can change the format by specifying it using the 'dtype' keywork argument.  The default is a floating point decimal if you do not otherwise specify the format:\n",
    "\n",
    "```python\n",
    "fives_float = np.linspace(0, 50, 11, dtype = 'float')\n",
    "```\n",
    "\n",
    "But I could, for example, generate the 11 _integers_ with a spacing of 5 between 0 and 50 by changing the dtype:\n",
    "\n",
    "```python\n",
    "fives_int = np.linspace(0, 50, 11, dtype = 'int')\n",
    "```\n",
    "\n",
    "Just be careful with spacing because this will force conversion of floats to integers, so you may not get the result you're expecting. I wouldn't usually convert a linspace array to integers, but the syntax is pretty universal with numpy, so I point it out here, and you can generalize it to the various convenience functions below."
   ]
  },
  {
   "cell_type": "code",
   "execution_count": null,
   "metadata": {},
   "outputs": [],
   "source": []
  },
  {
   "cell_type": "markdown",
   "metadata": {},
   "source": [
    "### `np.logspace()`\n",
    "\n",
    "Sometimes it is handy to generate arrays of numbers that are evenly spaced on a logarithmic scale. We use `np.logspace()` for this; it has the syntax: \n",
    "\n",
    "```python\n",
    "logspace(lower_power_of_base, upper_power_of_base, number of elements)\n",
    "```\n",
    "\n",
    "For example, to create a set of 11 numbers spaced at $10^{-5}$, $10^4$, etc., up to $10^5$:\n",
    "\n",
    "```python\n",
    "logset = np.logspace(-5, 5, 11)\n",
    "```"
   ]
  },
  {
   "cell_type": "code",
   "execution_count": null,
   "metadata": {},
   "outputs": [],
   "source": []
  },
  {
   "cell_type": "markdown",
   "metadata": {},
   "source": [
    "By default, `np.logspace()` is base 10, so it returns spacing in decades (powers of 10).  You can change this to any base that you want using the base keyword argument:\n",
    "\n",
    "```python\n",
    "lnset = np.logspace(-5, 5, 11, base = np.exp(1))\n",
    "```"
   ]
  },
  {
   "cell_type": "code",
   "execution_count": null,
   "metadata": {},
   "outputs": [],
   "source": []
  },
  {
   "cell_type": "markdown",
   "metadata": {},
   "source": [
    "### `np.zeros()`\n",
    "\n",
    "Often, we want to define matrices or vectors that contain zero.  These are easy to generate in Python (numpy.zeros), and you can generalize to high dimensions.  The general syntax is:\n",
    "\n",
    "```python\n",
    "np.zeros(shape)\n",
    "```\n",
    "\n",
    "Where shape is either an integer (for a 1D array) or a tuple for an ND array\n",
    "\n",
    "```python\n",
    "np.zeros(3)       #1D array with 3 zeros\n",
    "np.zeros((1,3))   #2D array (1x3 row) with 3 zeros\n",
    "np.zeros((3,1))   #2D array (3x1 column) with 3 zeros\n",
    "np.zeros((3,3))   #2D array (3x3 matrix) with 9 zeros\n",
    "np.zeros((3,3,3)) #3D array (3 copies of 3x3 matrix, each with 9 zeros)\n",
    "```"
   ]
  },
  {
   "cell_type": "code",
   "execution_count": null,
   "metadata": {},
   "outputs": [],
   "source": []
  },
  {
   "cell_type": "markdown",
   "metadata": {},
   "source": [
    "### `np.ones()`\n",
    "\n",
    "Similarly, you can generate the same structures filled with 1's.\n",
    "\n",
    "```python\n",
    "np.ones(3)\n",
    "np.ones((1,3))\n",
    "np.ones((3,1))\n",
    "np.ones((3,3))\n",
    "np.ones((3,3,3))\n",
    "```\n",
    "    \n",
    "As an example, this might be a more common place to request integer format:\n",
    "\n",
    "```python\n",
    "np.ones((3, 3), dtype = 'int')\n",
    "```"
   ]
  },
  {
   "cell_type": "code",
   "execution_count": null,
   "metadata": {},
   "outputs": [],
   "source": []
  },
  {
   "cell_type": "markdown",
   "metadata": {},
   "source": [
    "### The Identity Matrix\n",
    "\n",
    "Finally, you can easily construct an identity matrix using `numpy.identity()`.  It has the syntax where you give it the number of rows, and it will return a square identity matrix, e.g., a 5x5 identity matrix:\n",
    "\n",
    "```python\n",
    "np.identity(5)\n",
    "```\n",
    "\n",
    "`np.eye()` is similar, but it allows you to pass both row and column dimensions (if desired).  It adds a one on the diagonal, regardless of the dimensions.\n",
    "\n",
    "```python\n",
    "np.eye(2)\n",
    "np.eye(5)\n",
    "np.eye(5,2)\n",
    "```\n",
    "\n",
    "Though it may not be apparent yet, there are many reasons to make these types of structures.  A common one is to pre-allocate space to store values.  One convenient way to do that is to create a matrix of zeros that has the size of the output you want, and then you can store elements in each index."
   ]
  },
  {
   "cell_type": "code",
   "execution_count": null,
   "metadata": {},
   "outputs": [],
   "source": []
  },
  {
   "cell_type": "markdown",
   "metadata": {},
   "source": [
    "## Math on Numpy arrays\n",
    "\n",
    "### Elementwise operations (broadcasting)\n",
    "\n",
    "When performing mathematical operations on numpy arrays, ***the default is that they use element-by-element operations instead of linear algebra operations (e.g., matrix multiplication, matrix exponential, etc.)***.  This is best illustrated with an example.  Look at the output of the following:\n",
    "\n",
    "```python\n",
    "col+col #This will add each element of col to itself\n",
    "col*col #same as above with multiplication\n",
    "col**3  #same as above, but cubing each element of column\n",
    "col/col #divide each element of col by each element of column\n",
    "col*row #you might think this is matrix multiplication, but it's not; it is element by element\n",
    "mat1*mat1 #this is also not a matrix multiplication, it is element by element operation\n",
    "```"
   ]
  },
  {
   "cell_type": "code",
   "execution_count": null,
   "metadata": {},
   "outputs": [],
   "source": []
  },
  {
   "cell_type": "markdown",
   "metadata": {},
   "source": [
    "### Matrix Math\n",
    "\n",
    "If you want to multiply two matrices using linear algebra rules, it has special syntax.  First, you have to remember that dimensions are important when multiplying rows, columns, and matrices.  They all have to be correct. Their product returns a new matrix where each element (i,j) is the dot product of  row (i) and column (j). For this reason, the two matrices you intend to multiply must have dimensions (m x n) * (n x p), and their product returns a new matrix of dimensions (m x p).  As an illustration, a matrix can be multiplied by its transpose to return a square matrix (but the order matters):\n",
    "\n",
    "```python\n",
    "mat1       #A 3x2 matrix\n",
    "mat1.T     #A 2x3 matrix\n",
    "```"
   ]
  },
  {
   "cell_type": "code",
   "execution_count": null,
   "metadata": {},
   "outputs": [],
   "source": []
  },
  {
   "cell_type": "markdown",
   "metadata": {},
   "source": [
    "There are various ways to perform matrix multiplication; all are more-or-less equivalent for our purposes; I generally use the @ syntax since it is the cleanest and easiest to understand when I read the code.\n",
    "\n",
    "```python\n",
    "np.matmul(mat1, mat1.T) #their product is a 3x3 matrix\n",
    "mat1@mat1.T             #equivalent to above; recent addition to python as of 3.5\n",
    "np.dot(mat1, mat1.T)    #dot product of rows and columns; similar to above.\n",
    "```\n",
    "\n",
    "The big thing to remember is that our typical operators will usually do elementwise things to a numpy array, and if you want matrix math, you have to use special linear algebra syntax. For example, it is perfectly fine to multiple each element of a row (1 x 4) by elements in a different row (1 x 4):\n",
    "\n",
    "```python\n",
    "row*col.T  #(1 x 4) row * (1 x 4) row, elementwise\n",
    "```\n",
    "    \n",
    "But you cannot matrix multiply a row by a different row\n",
    "\n",
    "```python\n",
    "row@col.T #(1 x 4) x (1 x 4) matrix product; will return an error\n",
    "```"
   ]
  },
  {
   "cell_type": "code",
   "execution_count": null,
   "metadata": {},
   "outputs": [],
   "source": []
  }
 ],
 "metadata": {
  "kernelspec": {
   "display_name": "Python 3 (ipykernel)",
   "language": "python",
   "name": "python3"
  },
  "language_info": {
   "codemirror_mode": {
    "name": "ipython",
    "version": 3
   },
   "file_extension": ".py",
   "mimetype": "text/x-python",
   "name": "python",
   "nbconvert_exporter": "python",
   "pygments_lexer": "ipython3",
   "version": "3.9.13"
  }
 },
 "nbformat": 4,
 "nbformat_minor": 4
}
