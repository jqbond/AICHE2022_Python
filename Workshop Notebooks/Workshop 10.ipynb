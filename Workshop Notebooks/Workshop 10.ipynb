{
 "cells": [
  {
   "cell_type": "markdown",
   "metadata": {},
   "source": [
    "# Minimization of Multivariate Functoins\n",
    "\n",
    "We now move into minimizing objectives that are multivariate functions.  They still return a single quantity that we wish to optimize, so they are scalar functions, but we will now move into the case of optimizing that objective function by iteratively varying ***more than one*** function argument. We encounter this type of problem all the time!\n",
    "\n",
    "Let's start with a very basic example: we have a function that describes the value of z for values of x and y:\n",
    "\n",
    "$$z(x,y) = (x - 10)^2 + (y + 5)^2$$\n",
    "\n",
    "By inspection, we know that this function has a minimum value of z = 0 at x = 10, y = -5, but if we can, it's a good idea to start with a visualization of the problem.  This is a 3D problem, so we are still able to visualize it reasonably well. Once we hit 4D, all bets are off!  \n",
    "\n",
    "You can look up 3D plotting in matplotlib; I found the link below to be helpful. \n",
    "\n",
    "https://jakevdp.github.io/PythonDataScienceHandbook/04.12-three-dimensional-plotting.html"
   ]
  },
  {
   "cell_type": "code",
   "execution_count": null,
   "metadata": {},
   "outputs": [],
   "source": [
    "import numpy as np\n",
    "import scipy.optimize as opt\n",
    "import matplotlib.pyplot as plt"
   ]
  },
  {
   "cell_type": "markdown",
   "metadata": {},
   "source": [
    "## Visualizing a multivariate function with a surface plot"
   ]
  },
  {
   "cell_type": "code",
   "execution_count": null,
   "metadata": {},
   "outputs": [],
   "source": [
    "# This plot graphs the above function z in a 3d surface plot\n",
    "\n",
    "z    = lambda x,y: (x-10)**2 + (y+5)**2\n",
    "x    = np.linspace(-50, 50, 100)\n",
    "y    = np.linspace(-50, 50, 100)\n",
    "X, Y = np.meshgrid(x, y) #we're making a surface plot, so we create a grid of (x,y) pairs\n",
    "Z    = z(X,Y)  #generate the Z data on the meshgrid (X,Y) by evaluating f at each XY pair.\n",
    "\n",
    "#Create the figure and axis\n",
    "fig, ax = plt.subplots(subplot_kw={\"projection\": \"3d\"})\n",
    "#Plot the surface.\n",
    "surf = ax.plot_surface(X, Y, Z, cmap = 'jet')\n",
    "#Set properties\n",
    "plt.xlim(-50, 50)\n",
    "plt.xticks(np.arange(-50, 50.1, 20))\n",
    "plt.ylim(-50, 50)\n",
    "plt.yticks(np.arange(-50, 50.1, 20))\n",
    "plt.xlabel('X')\n",
    "plt.ylabel('Y')\n",
    "plt.title('Z values vs. X and Y')\n",
    "plt.show()"
   ]
  },
  {
   "cell_type": "markdown",
   "metadata": {},
   "source": [
    "## Analogous syntax for contour plots and filled contour plots"
   ]
  },
  {
   "cell_type": "code",
   "execution_count": null,
   "metadata": {},
   "outputs": [],
   "source": [
    "#Plot as contours\n",
    "plt.figure(2, figsize = (7, 5))\n",
    "plt.title('A contour plot of Z')\n",
    "plt.contour(X, Y, Z, levels = 50)\n",
    "plt.xlim(-50, 50)\n",
    "plt.xticks(np.arange(-50, 50.1, 20))\n",
    "plt.ylim(-50, 50)\n",
    "plt.yticks(np.arange(-50, 50.1, 20))\n",
    "plt.xlabel('X', fontsize = 12)\n",
    "plt.ylabel('Y', fontsize = 12)\n",
    "plt.colorbar()\n",
    "plt.show()"
   ]
  },
  {
   "cell_type": "code",
   "execution_count": null,
   "metadata": {},
   "outputs": [],
   "source": [
    "#Plot as filled contours\n",
    "plt.figure(2, figsize = (7, 5))\n",
    "plt.title('A filled contour plot of Z')\n",
    "plt.contourf(X, Y, Z, levels = 50, cmap = 'jet')\n",
    "plt.xlim(-50, 50)\n",
    "plt.xticks(np.arange(-50, 50.1, 20))\n",
    "plt.ylim(-50, 50)\n",
    "plt.yticks(np.arange(-50, 50.1, 20))\n",
    "plt.xlabel('X', fontsize = 12)\n",
    "plt.ylabel('Y', fontsize = 12)\n",
    "plt.colorbar()\n",
    "plt.show()"
   ]
  },
  {
   "cell_type": "markdown",
   "metadata": {},
   "source": [
    "## Passing array arguments to the function\n",
    "\n",
    "This is a multivariate function, z(x,y), that returns a single output, z. We can minimize z by using any of the `opt.minimize()` routines or any of the global optimzation routines we tested on univariate functions. We just make a simple extention to our original syntax. I know that above, we've wrote this out as z(x,y), which is conceptually true, but there is a catch when working with `opt.minimize()`:\n",
    "\n",
    "It will only vary the value of the first argument when seeking an optimum, and it will treat any additional arguments we pass to the function as fixed parameters. So, if I were to give z(x,y) to an optimizer, it would vary the value of x while holding y fixed at the initial value. Instead, I have to create function that accepts an ***array*** as its first argument. That first argument should be a collection - usually a list, a numpy array, or a tuple - of variables that I want to adjust until I find the minimum value of my function.  So, instead of working with:\n",
    "\n",
    "```python\n",
    "def z(x,y):\n",
    "    return (x - 10)**2 + (y + 5)**2\n",
    "```\n",
    "        \n",
    "or it's analogous lambda function\n",
    "\n",
    "```python\n",
    "z = lambda x,y: (x - 10)**2 + (y + 5)**2\n",
    "```\n",
    "\n",
    "We want to write this particular objective function such that its first argument is a collection of all of the variables we want to minimize with respect to:\n",
    "\n",
    "```python\n",
    "def z(var):\n",
    "    return (var[0] - 10)**2 + (var[1] + 5)**2\n",
    "```\n",
    "\n",
    "or, it's analgous lambda function:\n",
    "\n",
    "```python\n",
    "z = lambda var: (var[0] - 10)**2 + (var[1] + 5)**2\n",
    "```\n",
    "\n",
    "### Improving human readability\n",
    "    \n",
    "Often, to improve readability in a complex function, I will use a long form function definition and redefine elements in \"var\" using the labels that are specific to the way we express our function on paper:\n",
    "\n",
    "```python\n",
    "def z(var):\n",
    "    x = var[0]\n",
    "    y = var[1]\n",
    "    return (x - 10)**2 + (y + 5)**2\n",
    "```\n",
    "\n",
    "Note that Python will also allow you to unpack elements in an array as a set of comma separated values, which is a bit more concise (This is equivalent in practice to the above).\n",
    "\n",
    "```python\n",
    "def z(var):\n",
    "    x, y = var\n",
    "    return (x - 10)**2 + (y + 5)**2\n",
    "```\n",
    "\n",
    "Any of the above options will work. Now that we've created an objective function that takes a single array argument, we can pass this objective function as an argument to `opt.minimize()`.  The only other catch is that we need an initial guess for the (x,y) pair, and it should be a collection of the same size and type that we used for our function argument - in fact, our initial guess is what sets the data type for var.  So, my full optimization script would look something like this. Just so that we can make the optimizer work for it, let's start at an initial guess of [10, 50] for x and y, which we'll pass as `var0 = [10, 50]`. As we saw in past exercises, `opt.minimize()` will output a solution structure, and I can access individual elements using a dot operator."
   ]
  },
  {
   "cell_type": "code",
   "execution_count": null,
   "metadata": {},
   "outputs": [],
   "source": [
    "def z(var):\n",
    "    x, y = var\n",
    "    return (x - 10)**2 + (y + 5)**2\n",
    "var0 = [10, 50]  #Initial guess for x and y as a list; I could also use an array or tuple.\n",
    "opt.minimize(z, var0)"
   ]
  },
  {
   "cell_type": "code",
   "execution_count": null,
   "metadata": {},
   "outputs": [],
   "source": [
    "opt.minimize(z, var0, bounds = [(1, 10), (20, 50)])"
   ]
  },
  {
   "cell_type": "markdown",
   "metadata": {},
   "source": [
    "### Passing extra arguments or parameters\n",
    "\n",
    "Finally, you often will encounter an optimization problem wherein you need to minimize an objective function by varying a set of parameters, but you also need to pass additional information to the function.  As an example, let's use the following function:\n",
    "\n",
    "$$q(x,y,a,b) = ax^2 + by^2 + x - y$$\n",
    "\n",
    "In a lot of languages, you'd probably use anonymous functions to handle this; that will work in Python as well.  That said, Python also gives you the convenient option of passing extra arguments using the `args` keyword.  ***This works for most numerical methods from Scipy***."
   ]
  },
  {
   "cell_type": "code",
   "execution_count": null,
   "metadata": {},
   "outputs": [],
   "source": [
    "def q(var, a, b):\n",
    "    x = var[0]\n",
    "    y = var[1]\n",
    "    return a*x**2 + b*y**2 + x - y"
   ]
  },
  {
   "cell_type": "code",
   "execution_count": null,
   "metadata": {},
   "outputs": [],
   "source": [
    "opt.minimize(q, var0, args = (1, 3))"
   ]
  },
  {
   "cell_type": "markdown",
   "metadata": {},
   "source": [
    "## Least Squares\n",
    "\n",
    "The basic problem should be familiar to everyone. You have a set of data, and you want to create a model that describes data well enough that it is reasonably predictive. \n",
    "\n",
    "### Enzyme Kinetics"
   ]
  },
  {
   "cell_type": "code",
   "execution_count": null,
   "metadata": {},
   "outputs": [],
   "source": [
    "CS = np.array([0, 0.001, 0.002, 0.005, 0.01, 0.02, 0.05, 0.1, 0.2, 0.5, 1, 2, 5]) #mmol/L\n",
    "rate = np.array([0, 0.017537467, 0.030941975, 0.080327165, 0.1643835, 0.26569368, 0.745442547, 1.295792328, 2.419014706, 4.0402125, 5.534947297, 5.127217742, 7.074911496]) #mmol/L/min\n",
    "\n",
    "## Graphing the data\n",
    "plt.figure(1, figsize = (5, 5))\n",
    "plt.scatter(CS, rate, marker = 'o', color = 'none', edgecolor = 'black')\n",
    "plt.xlim(0, 6)\n",
    "plt.ylim(0, 8)\n",
    "plt.xlabel('Substrate Concentration (mmol/L)', fontsize = 12)\n",
    "plt.ylabel('Rate (mmol/L/min)', fontsize = 12)\n",
    "plt.show()"
   ]
  },
  {
   "cell_type": "markdown",
   "metadata": {},
   "source": [
    "### Minimizing Least Squares for Michaelis-Menten Kinetics\n",
    "\n",
    "The \"saturation kinetics\" that we observe in this system suggests a Michaelis-Menten mechanisms, which we model as:\n",
    "\n",
    "$$rate = \\frac{V_{max}C_S}{K_m + C_S}$$\n",
    "\n",
    "Next, we need to build an objective function that calculates the residual sum of squares between the model prediction and the experimental measurment for our experimental set of substrate concentrations. In this case, our objective function will be a ***multivariate scalar function***. It will accept two parameters that we want to find optimum values for -- $K_m$ and $V_{max}$ -- and it will return a single value that we wish to minimize, the residual sum of squares. "
   ]
  },
  {
   "cell_type": "code",
   "execution_count": null,
   "metadata": {},
   "outputs": [],
   "source": [
    "def obj(par, C, r): #obj(variable parameters, extra arg 1, extra arg 2)\n",
    "    Vmax  = par[0]\n",
    "    Km    = par[1]\n",
    "    model = (Vmax*C)/(Km + C)\n",
    "    SSE = sum((r - model)**2)\n",
    "    return SSE"
   ]
  },
  {
   "cell_type": "code",
   "execution_count": null,
   "metadata": {},
   "outputs": [],
   "source": [
    "par0 = np.array([1,1])\n",
    "sol = opt.minimize(obj, par0, args = (CS, rate))\n",
    "print(sol)"
   ]
  },
  {
   "cell_type": "code",
   "execution_count": null,
   "metadata": {},
   "outputs": [],
   "source": [
    "opt.minimize(obj, [7,0.3], args = (CS, rate), bounds = [(6.8, 7.4), (0.1, 0.5)])"
   ]
  }
 ],
 "metadata": {
  "kernelspec": {
   "display_name": "Python 3 (ipykernel)",
   "language": "python",
   "name": "python3"
  },
  "language_info": {
   "codemirror_mode": {
    "name": "ipython",
    "version": 3
   },
   "file_extension": ".py",
   "mimetype": "text/x-python",
   "name": "python",
   "nbconvert_exporter": "python",
   "pygments_lexer": "ipython3",
   "version": "3.9.13"
  }
 },
 "nbformat": 4,
 "nbformat_minor": 4
}
