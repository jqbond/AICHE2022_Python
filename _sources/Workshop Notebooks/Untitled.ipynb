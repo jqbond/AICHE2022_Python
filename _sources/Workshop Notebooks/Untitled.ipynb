{
 "cells": [
  {
   "cell_type": "markdown",
   "id": "14b3077f",
   "metadata": {},
   "source": [
    "# General Concepts"
   ]
  },
  {
   "cell_type": "markdown",
   "id": "afc4e1a9",
   "metadata": {},
   "source": [
    "You have to teach Python...from zero"
   ]
  },
  {
   "cell_type": "markdown",
   "id": "ebc16529",
   "metadata": {},
   "source": [
    "Students need a really good grasp of functions as more than \"y = f(x)\" type concepts."
   ]
  },
  {
   "cell_type": "markdown",
   "id": "640e92f9",
   "metadata": {},
   "source": [
    "## Introduce new concepts, methods, tools as they become relevant"
   ]
  },
  {
   "cell_type": "markdown",
   "id": "05a0722e",
   "metadata": {},
   "source": [
    "## Lose the obsession with writing perfect code; write intuitive code first and make it perfect after you get it working"
   ]
  },
  {
   "cell_type": "markdown",
   "id": "7c6ae905",
   "metadata": {},
   "source": [
    "There are dozens of ways too do anything with Python, and there are probably even several roughly equivalent \"best\" ways to do things in Python "
   ]
  },
  {
   "cell_type": "markdown",
   "id": "0b63676a",
   "metadata": {},
   "source": [
    "Solve problems you already know the answer to."
   ]
  }
 ],
 "metadata": {
  "kernelspec": {
   "display_name": "Python 3 (ipykernel)",
   "language": "python",
   "name": "python3"
  },
  "language_info": {
   "codemirror_mode": {
    "name": "ipython",
    "version": 3
   },
   "file_extension": ".py",
   "mimetype": "text/x-python",
   "name": "python",
   "nbconvert_exporter": "python",
   "pygments_lexer": "ipython3",
   "version": "3.9.13"
  }
 },
 "nbformat": 4,
 "nbformat_minor": 5
}
