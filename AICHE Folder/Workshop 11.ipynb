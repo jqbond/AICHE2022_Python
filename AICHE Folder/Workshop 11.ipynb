{
 "cells": [
  {
   "cell_type": "markdown",
   "metadata": {},
   "source": [
    "# Solving Systems of Nonlinear Equations\n",
    "\n",
    "\\begin{align}\n",
    "    x^2 - 3y &= 14.75z - w^4 \\\\\n",
    "    25 &= x^3 - z \\\\ \n",
    "    0 &= \\ln(z) - z^2 + 2x + 3 \\\\\n",
    "    z + xw &= 74\n",
    "\\end{align}\n",
    "\n",
    "Put into form:\n",
    "\n",
    "\\begin{align}\n",
    "    0 &= -x^2 - + 3y + 14.75z - w^4 \\\\\n",
    "    0 &= x^2 - z - 25 \\\\\n",
    "    0 &= \\ln(z) - z^2 + 2x + 3 \\\\\n",
    "    0 &= z + xw - 74\n",
    "\\end{align}"
   ]
  },
  {
   "cell_type": "code",
   "execution_count": 1,
   "metadata": {},
   "outputs": [],
   "source": [
    "import numpy as np\n",
    "import scipy.optimize as opt"
   ]
  },
  {
   "cell_type": "markdown",
   "metadata": {},
   "source": [
    "## An intuitive function definition to define this system"
   ]
  },
  {
   "cell_type": "code",
   "execution_count": 2,
   "metadata": {},
   "outputs": [
    {
     "data": {
      "text/plain": [
       "[63.0, -25, -7.613705638880109, -68]"
      ]
     },
     "execution_count": 2,
     "metadata": {},
     "output_type": "execute_result"
    }
   ],
   "source": [
    "def F(w,x,y,z):\n",
    "    eq1 =  -x**2 +3*y + 14.75*z - w**4\n",
    "    eq2 =   x**2 - z - 25\n",
    "    eq3 =   np.log(z) - z**2 + 2*x + 3\n",
    "    eq4 =   z + x*w - 74\n",
    "    return [eq1, eq2, eq3, eq4]   #Technically, this will return a list [eq1, eq2, eq3, eq4]\n",
    "F(1,2,3,4)"
   ]
  },
  {
   "cell_type": "markdown",
   "metadata": {},
   "source": [
    "## Note the incompatibility with Scipy's `opt.root()`\n",
    "\n",
    "We have to do two things to make this work:\n",
    "\n",
    "1. We have to recognize that our root finding algorithm is iterative. It is going to vary the values of w, x, y, and z until it converges. As in the case with optimization of multivariate functions, when we intend to vary these values iteratively, we *usually* need to pass them as the first argument to the function as a collection (a vector, array, list, tuple, etc.). That means we will pack w, x, y, and z into a single vector-like variable, just like we did with multivariate optimization.\n",
    "2. Similar to the way our root finding algorithm wants all of our unknown variables input as an array-like quantity, it wants our function to return the left-hand-side solution to each equation in an array-like set of identical size to our set of variables.\n",
    "\n",
    "### Defining a multivariate vector function for compatibility with `opt.root()`\n"
   ]
  },
  {
   "cell_type": "code",
   "execution_count": 3,
   "metadata": {},
   "outputs": [
    {
     "data": {
      "text/plain": [
       "[63.0, -25, -7.613705638880109, -68]"
      ]
     },
     "execution_count": 3,
     "metadata": {},
     "output_type": "execute_result"
    }
   ],
   "source": [
    "def F(var):\n",
    "    w, x, y, z = var   #I like to relabel elements of the vector variable for readability\n",
    "    LHS1 =  -x**2 + 3*y + 14.75*z - w**4\n",
    "    LHS2 =   x**2 - z - 25\n",
    "    LHS3 =   np.log(z) - z**2 + 2*x + 3\n",
    "    LHS4 =   z + x*w - 74\n",
    "    retval = [LHS1, LHS2, LHS3, LHS4] #I'm using a list, but you can return a tuple or array just as easily.\n",
    "    return retval\n",
    "F([1,2,3,4])"
   ]
  },
  {
   "cell_type": "markdown",
   "metadata": {},
   "source": [
    "### Solve system with `opt.root()`"
   ]
  },
  {
   "cell_type": "code",
   "execution_count": 4,
   "metadata": {},
   "outputs": [
    {
     "data": {
      "text/plain": [
       "    fjac: array([[-9.99999786e-01,  2.16439481e-06,  4.12394877e-08,\n",
       "         6.54018117e-04],\n",
       "       [-4.89864222e-04, -6.54259823e-01, -1.19090081e-01,\n",
       "        -7.46834250e-01],\n",
       "       [ 4.33332846e-04, -7.34506405e-01, -1.35140183e-01,\n",
       "         6.65009236e-01],\n",
       "       [-2.68338866e-07,  1.80123360e-01, -9.83643575e-01,\n",
       "        -9.44365147e-04]])\n",
       "     fun: array([ 4.63944161e-07, -2.01083594e-11,  2.87059265e-12,  9.85522774e-11])\n",
       " message: 'The solution converged.'\n",
       "    nfev: 293\n",
       "     qtf: array([ 5.71880420e-05,  4.29964652e-08, -5.28577241e-08,  9.90538145e-10])\n",
       "       r: array([ 8.27419961e+03,  1.09944077e+01, -2.87554327e+00, -1.47493661e+01,\n",
       "       -1.67940052e+01, -1.39469538e-03,  7.99711662e-01,  1.23000526e-03,\n",
       "        2.42664776e+00,  7.24858618e+00])\n",
       "  status: 1\n",
       " success: True\n",
       "       x: array([1.30451990e+01, 5.37463986e+00, 9.64394731e+03, 3.88675366e+00])"
      ]
     },
     "execution_count": 4,
     "metadata": {},
     "output_type": "execute_result"
    }
   ],
   "source": [
    "var0 = [10, 10, 10, 10] #This is a list with my 4 initial guesses at the \"roots\" for w, x, y, and z\n",
    "opt.root(F, var0)"
   ]
  },
  {
   "cell_type": "markdown",
   "metadata": {},
   "source": [
    "### Changing Solver Algorithms\n",
    "\n",
    "`opt.root()` is quite flexible as it includes several root finding algorithms (`hybrid`, `levenberg-marquardt`, `kyrlov`, etc.). Method selection is easy with `opt.root()`; similar to everything we've seen with `opt.minimize()`, you can select the algorithm using the method keyword.  So if I wanted to change from the default `hybr` method to `Levenberg-Marquardt`, I would do so by adding the method keyword argument and passing the string `LM`, which specifies Levenberg-Marquardt."
   ]
  },
  {
   "cell_type": "code",
   "execution_count": null,
   "metadata": {},
   "outputs": [],
   "source": [
    "opt.root(F, var0, method = 'LM')"
   ]
  }
 ],
 "metadata": {
  "kernelspec": {
   "display_name": "Python 3 (ipykernel)",
   "language": "python",
   "name": "python3"
  },
  "language_info": {
   "codemirror_mode": {
    "name": "ipython",
    "version": 3
   },
   "file_extension": ".py",
   "mimetype": "text/x-python",
   "name": "python",
   "nbconvert_exporter": "python",
   "pygments_lexer": "ipython3",
   "version": "3.9.13"
  }
 },
 "nbformat": 4,
 "nbformat_minor": 4
}
