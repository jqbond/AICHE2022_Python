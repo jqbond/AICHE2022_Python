{
 "cells": [
  {
   "cell_type": "markdown",
   "id": "4646b1c2",
   "metadata": {},
   "source": [
    "# The Approach\n",
    "\n",
    "This workshop is structured in a set of Notebooks.  Each was inspired by things that I've learned over a few semesters of trying to use Python and Jupyter Notebooks as my primary computer support for a senior level course in Kinetics and Reaction Engineering.  We can break those down into a few questions or ideas:\n",
    "\n",
    "1. Why Python?\n",
    "2. Why Jupyter?\n",
    "3. On Average, your students do not know Python, and they are terrified of programming.  Realize that you will need to teach them Python (and CS and programming principles) in parallel to whatever core content you are teaching in your course, and appreciate what you're asking of them (Learn Python + Learn Reactor Design).\n",
    "4. Students need to understand the fundamentals before doing anything else.\n",
    "5. Introduce new concepts and tools as they become relevant -- don't teach ODE solvers in the same breath as defining a matrix and expect students to remember how to use them later.\n",
    "6. Don't get stuck trying to restrict yourself to Numpy and Scipy. Learn the Python base because everything else is a subset of that base.\n",
    "7. Arguably, the most important things students need to build is the skill of understanding how functions work in programming.  Every numerical method in Python is based on writing functions; if students don't grasp that a function is more than y = f(x), they will struggle.\n",
    "8. Lose the obsession with writing perfect, optimized, idiomatic code. Even if you can do it, your students won't understand it. Write intuitive code first and get the problem solved. Once you understand the language and the code, then you can optimize and make it elegant and fast.\n",
    "9. There are dozens of ways too do anything with Python, and there are probably even several roughly equivalent \"best\" ways to do things in Python.\n",
    "10. When you are learning a new method, always solve a problem you know the answer to.\n",
    "\n",
    "<div class = \"alert alert-block alert-danger\">\n",
    "    <b>Disclaimer:</b>  Most of these materials were written in a 6 week fever dream after the world ended when everything shut down for COVID in 2020.  I also wrote them <b>while</b> I was learning Python, which makes them a fascinating pedagogical tool in that, at some level, they contain all of the fear and despair of trying to learn a new programming language.  I think it was helpful for me to be able to pinpoint what I didn't understand in writing while I was actually developing the materials. But YMMV.\n",
    "    </div>\n"
   ]
  },
  {
   "cell_type": "markdown",
   "id": "e696fe52",
   "metadata": {},
   "source": [
    "## Why Python?\n",
    "\n",
    "Python is open source, free to download, easy to install, accessible through web-based servers like Colab, widely used outside of academia and engineering, has excellent community development and support, can do anything that you want it to and more, including producing publication quality graphics and advanced data analytics and visualization.  It's also fun.\n",
    "\n",
    "Students *think* they don't like programming most likely because they have had a bad introduction to programming.  Usually this happens when we expect them to solve engineering problems by writing programs, but we never really teach them how to program.  For some reason, I'm able to convince students every August that, despite their negative associations, they actually do want to learn Python.  And by December, most of them are at least competent in Python.\n",
    "\n",
    "The main reason that I've gravitated toward using a programming language in my courses is that, historically, textbook problems are toy problems that are mostly amenable to analytical solutions, but may not be realistic approximations of engineering in practice. Realistic problems will almost certainly require numerical methods, which effectively force you to use a programming language.  I've found that Python is great for teaching as it can handle anything I need, is relatively easy to learn, and is also easy to install without a lot of headaches using either Anaconda or web-based Python (e.g., Colab).\n",
    "\n",
    "As an illustration, the cells below come from the test notebook that I circulated.  You'll note relatively simple, human readable syntax to solve relevant problems in engineering."
   ]
  },
  {
   "cell_type": "code",
   "execution_count": null,
   "id": "7039d956",
   "metadata": {},
   "outputs": [],
   "source": [
    "import numpy as np\n",
    "import matplotlib.pyplot as plt\n",
    "from scipy.integrate import quadrature\n",
    "from scipy.integrate import solve_ivp\n",
    "import scipy.optimize as opt\n",
    "from scipy.interpolate import interp1d"
   ]
  },
  {
   "cell_type": "markdown",
   "id": "d0ddae94",
   "metadata": {},
   "source": [
    "## Arrays and element-wise or vectorized calculations"
   ]
  },
  {
   "cell_type": "code",
   "execution_count": null,
   "id": "e79f2d10",
   "metadata": {},
   "outputs": [],
   "source": [
    "#This cell creates a numpy array and executes various element-wise operations on it (broadcasting)\n",
    "\n",
    "A = np.array([1, 2, 3, 4, 5])\n",
    "B = np.exp(A)\n",
    "C = np.log(A)\n",
    "D = np.log10(A)\n",
    "E = A+B\n",
    "F = A*B\n",
    "print(A)\n",
    "print(B)\n",
    "print(C)\n",
    "print(D)\n",
    "print(E)\n",
    "print(F)"
   ]
  },
  {
   "cell_type": "markdown",
   "id": "4dd40fbc",
   "metadata": {},
   "source": [
    "## 2D arrays and matrix operations"
   ]
  },
  {
   "cell_type": "code",
   "execution_count": null,
   "id": "fa242a2f",
   "metadata": {},
   "outputs": [],
   "source": [
    "# This cell creates 2D numpy arrays and performs a matrix multiplication\n",
    "M1 = np.array([[1, 2, 3], [4, 5, 6], [7, 8, 9]])\n",
    "M2 = np.array([[10, 11, 12], [13, 14, 15], [16, 17, 18]])\n",
    "M1@M2"
   ]
  },
  {
   "cell_type": "markdown",
   "id": "b7d575ce",
   "metadata": {},
   "source": [
    "## Functions (lambda and def keywords) and function evaluation"
   ]
  },
  {
   "cell_type": "code",
   "execution_count": null,
   "id": "71c9cd16",
   "metadata": {},
   "outputs": [],
   "source": [
    "# This cell creats a function h(x) = x^2 using lamba syntax and evaluates it at x = 25\n",
    "\n",
    "h = lambda x: x**2\n",
    "\n",
    "print(f'h(x) at x = 25 is h = {h(25):0.0f}')"
   ]
  },
  {
   "cell_type": "code",
   "execution_count": null,
   "id": "43ac0cc7",
   "metadata": {},
   "outputs": [],
   "source": [
    "# This cell creates a function g(x) that calculates and returns the values of a, b, and c\n",
    "\n",
    "def g(x):\n",
    "    a = x**2\n",
    "    b = np.hstack([x, a])\n",
    "    c = np.sum(np.exp(x))\n",
    "    return (a, b, c)"
   ]
  },
  {
   "cell_type": "code",
   "execution_count": null,
   "id": "e45261bc",
   "metadata": {},
   "outputs": [],
   "source": [
    "# This cell evaluates the function g(x) for an array of 100 x values; it checks the type, size, and shape of the results\n",
    "xset = np.linspace(0, 2, 100)\n",
    "A, B, C = g(xset)\n",
    "print(f'A is a {type(A)}, it\\'s size is {A.size}, and it\\'s shape is {A.shape}.')\n",
    "print(f'B is a {type(B)}, it\\'s size is {B.size}, and it\\'s shape is {B.shape}.')\n",
    "print(f'C is a {type(C)}, it\\'s size is {C.size:3d}, and it\\'s shape is {C.shape}.')"
   ]
  },
  {
   "cell_type": "markdown",
   "id": "fd8a1029",
   "metadata": {},
   "source": [
    "## Plotting"
   ]
  },
  {
   "cell_type": "code",
   "execution_count": null,
   "id": "c85763de",
   "metadata": {},
   "outputs": [],
   "source": [
    "# This cell plots A vs. X with some very basic formatting commands\n",
    "\n",
    "plt.figure(1, figsize = (5, 5))\n",
    "plt.plot(xset, A, label = 'A', color = 'black', linestyle = 'dashed', linewidth = 1.25)\n",
    "plt.xlabel('X values', fontsize = 12)\n",
    "plt.ylabel('A values', fontsize = 12)\n",
    "plt.xlim(0, max(xset))\n",
    "plt.ylim(0, 5)\n",
    "plt.xticks([0, 0.5, 1.0, 1.5, 2.0], fontsize = 11)\n",
    "plt.yticks(fontsize = 11)\n",
    "plt.minorticks_on()\n",
    "plt.legend()\n",
    "plt.show()"
   ]
  },
  {
   "cell_type": "markdown",
   "id": "cb37113c",
   "metadata": {},
   "source": [
    "## For Loops, List Comprehensions, and While Loops"
   ]
  },
  {
   "cell_type": "code",
   "execution_count": null,
   "id": "d89d0c9e",
   "metadata": {},
   "outputs": [],
   "source": [
    "# This cell runs a simple for loop\n",
    "\n",
    "days = ['Sunday', 'Monday', 'Tuesday', 'Wednesday', 'Thursday', 'Friday', 'Saturday']\n",
    "\n",
    "for day in days:\n",
    "    print(day)    "
   ]
  },
  {
   "cell_type": "code",
   "execution_count": null,
   "id": "e1e6764e",
   "metadata": {},
   "outputs": [],
   "source": [
    "# This cell uses a list comprehension to square each element in a list\n",
    "\n",
    "A = [1, 2, 3, 4, 5]\n",
    "B = [value**2 for value in A]\n",
    "print(B)"
   ]
  },
  {
   "cell_type": "code",
   "execution_count": null,
   "id": "c2ae0e23",
   "metadata": {},
   "outputs": [],
   "source": [
    "# This cell runs a simple while loop\n",
    "\n",
    "test = 0\n",
    "\n",
    "while test <= 10:\n",
    "    print(test)\n",
    "    test += 1"
   ]
  },
  {
   "cell_type": "markdown",
   "id": "46ed4e8f",
   "metadata": {},
   "source": [
    "## Algebraic Equation Solvers"
   ]
  },
  {
   "cell_type": "code",
   "execution_count": null,
   "id": "0280dce2",
   "metadata": {},
   "outputs": [],
   "source": [
    "#This cell solves a single nonlinear algebraic equation (x^3 - 2x^2 + exp(x) = 25) using opt.newton()\n",
    "\n",
    "def eqn(x):\n",
    "    return x**3 - 2*x**2 + np.exp(x) - 25\n",
    "\n",
    "ans1 = opt.newton(eqn, 2)\n",
    "\n",
    "print(f'The solution is x = {ans1:0.2f}')"
   ]
  },
  {
   "cell_type": "code",
   "execution_count": null,
   "id": "6346d1f0",
   "metadata": {},
   "outputs": [],
   "source": [
    "# This cell solves a system of equations (x^2 + y^2 = 25 and x + exp(y) = 15) with opt.root()\n",
    "\n",
    "def eqns(var):\n",
    "    x, y = var\n",
    "    eqn1 = x**2 + y**2 - 25\n",
    "    eqn2 = x + np.exp(y) - 15\n",
    "    return (eqn1, eqn2)\n",
    "\n",
    "ans1 = opt.root(eqns, [1, 1])\n",
    "\n",
    "if ans1.message == 'The solution converged.':\n",
    "    print('The cell has executed correctly!')\n",
    "    print(f'The solution is x = {ans1.x[0]:0.3f} and y = {ans1.x[1]:0.3f}') "
   ]
  },
  {
   "cell_type": "markdown",
   "id": "57b3c773",
   "metadata": {},
   "source": [
    "## Quadrature"
   ]
  },
  {
   "cell_type": "code",
   "execution_count": null,
   "id": "03b2182a",
   "metadata": {},
   "outputs": [],
   "source": [
    "# This cell solves a definite integral (int(x^2 from 0 to 25)) using gaussian quadrature; i\n",
    "\n",
    "integrand = lambda x:  x**2\n",
    "integral, error = quadrature(integrand, 0, 25)\n",
    "print(integral)"
   ]
  },
  {
   "cell_type": "markdown",
   "id": "1775883d",
   "metadata": {},
   "source": [
    "## Initial Value Problems"
   ]
  },
  {
   "cell_type": "code",
   "execution_count": null,
   "id": "dbdf99bb",
   "metadata": {},
   "outputs": [],
   "source": [
    "# This cell solves an initial value problem comprised of coupled system of ODEs (dx/dt = -xy and dy/dt = -x^2 + y^2)\n",
    "# at t = 0, x = 50 and y = 10\n",
    "\n",
    "def odefun(t, var):\n",
    "    x, y = var\n",
    "    dxdt = -x + y\n",
    "    dydt = -x**2 + y**2\n",
    "    return (dxdt, dydt)\n",
    "\n",
    "ans2 = solve_ivp(odefun, (0, 2), (50, 10), atol = 1e-8, rtol = 1e-8) \n",
    "tsol = ans2.t\n",
    "ysol = ans2.y[1]\n",
    "if ans2.success == True:\n",
    "    print('The ODE solver executed correctly!!')\n",
    "    print('The graph below shows the behavior of X and Y as time increases')\n",
    "\n",
    "plt.figure(1, figsize = (5, 5))\n",
    "plt.plot(ans2.t, ans2.y[0], label = 'X', color = 'black')\n",
    "plt.plot(ans2.t, ans2.y[1], label = 'Y', color = 'red', linestyle = 'dashed')\n",
    "plt.xlim(0, 2)\n",
    "plt.ylim(-50, 50)\n",
    "plt.xlabel('time', fontsize = 12)\n",
    "plt.xticks(np.arange(0, 2.01, 0.5), fontsize = 11)\n",
    "plt.yticks(np.arange(-50, 50.1, 20), fontsize = 11)\n",
    "plt.legend()\n",
    "plt.show()"
   ]
  },
  {
   "cell_type": "markdown",
   "id": "352277df",
   "metadata": {},
   "source": [
    "## 1D Interpolation"
   ]
  },
  {
   "cell_type": "code",
   "execution_count": null,
   "id": "1076662f",
   "metadata": {},
   "outputs": [],
   "source": [
    "# This cell creates an 1D interpolating polynomial (spline) that approximates the true solution y(t) from the ODE solution above\n",
    "\n",
    "itp1 = interp1d(tsol, ysol, kind = 'cubic')\n",
    "itp1(1.0)"
   ]
  },
  {
   "cell_type": "markdown",
   "id": "03faaf28",
   "metadata": {},
   "source": [
    "## Optimization/Minimization"
   ]
  },
  {
   "cell_type": "code",
   "execution_count": null,
   "id": "0d4f0ccf",
   "metadata": {},
   "outputs": [],
   "source": [
    "# This cell finds the minimum in a function y = (x - 10)^2 + 25 using opt.minimize\n",
    "\n",
    "y = lambda x: (x - 10)**2 + 25\n",
    "xset = np.linspace(0, 20)\n",
    "plt.plot(xset, y(xset))\n",
    "plt.title('y vs. x')\n",
    "plt.xlim(0, 20)\n",
    "plt.ylim(0, 150)\n",
    "plt.show()\n",
    "\n",
    "ans3 = opt.minimize_scalar(y)\n",
    "if ans3.success == True:\n",
    "    print(f'The cell has executed correctly.')\n",
    "    print(f'The solver found a minimum at x = {ans3.x:0.2f}')"
   ]
  },
  {
   "cell_type": "code",
   "execution_count": null,
   "id": "f64534db",
   "metadata": {},
   "outputs": [],
   "source": [
    "## This cell finds the minimum in a multivariate function z(x,y) = (x - 10)^2 + (y + 5)^2 using opt.mimimize()\n",
    "\n",
    "def z(var):\n",
    "    x, y = var\n",
    "    return (x-10)**2 + (y+5)**2\n",
    "\n",
    "ans4 = opt.minimize(z, (0, 0))\n",
    "if ans4.message == 'Optimization terminated successfully.':\n",
    "    print('The cell has executed correctly.')\n",
    "    print(f'The solver found a minimum at x = {ans4.x[0]:0.1f} and y = {ans4.x[1]:0.1f}.')"
   ]
  },
  {
   "cell_type": "markdown",
   "id": "fe776721",
   "metadata": {},
   "source": [
    "## 3D Plots (Surfaces, Contours, and Filled Contours)"
   ]
  },
  {
   "cell_type": "code",
   "execution_count": null,
   "id": "bc236267",
   "metadata": {},
   "outputs": [],
   "source": [
    "# This plot graphs the above function z in a 3d surface plot\n",
    "\n",
    "z2   = lambda x,y: (x-10)**2 + (y+5)**2\n",
    "x    = np.linspace(-50, 50, 100)\n",
    "y    = np.linspace(-50, 50, 100)\n",
    "X, Y = np.meshgrid(x, y) #we're making a surface plot, so we create a grid of (x,y) pairs\n",
    "Z    = z2(X,Y)  #generate the Z data on the meshgrid (X,Y) by evaluating f at each XY pair.\n",
    "\n",
    "#Create the figure and axis\n",
    "fig, ax = plt.subplots(subplot_kw={\"projection\": \"3d\"})\n",
    "#Plot the surface.\n",
    "surf = ax.plot_surface(X, Y, Z, cmap = 'jet')\n",
    "#Set properties\n",
    "plt.xlim(-50, 50)\n",
    "plt.xticks(np.arange(-50, 50.1, 20))\n",
    "plt.ylim(-50, 50)\n",
    "plt.yticks(np.arange(-50, 50.1, 20))\n",
    "plt.xlabel('X')\n",
    "plt.ylabel('Y')\n",
    "plt.title('Z values vs. X and Y')\n",
    "plt.show()\n",
    "\n",
    "#Plot as contours\n",
    "plt.figure(2, figsize = (7, 5))\n",
    "plt.title('A contour plot of Z')\n",
    "plt.contour(X, Y, Z, levels = 50)\n",
    "plt.xlim(-50, 50)\n",
    "plt.xticks(np.arange(-50, 50.1, 20))\n",
    "plt.ylim(-50, 50)\n",
    "plt.yticks(np.arange(-50, 50.1, 20))\n",
    "plt.xlabel('X', fontsize = 12)\n",
    "plt.ylabel('Y', fontsize = 12)\n",
    "plt.colorbar()\n",
    "plt.show()\n",
    "\n",
    "#Plot as filled contours\n",
    "plt.figure(2, figsize = (7, 5))\n",
    "plt.title('A filled contour plot of Z')\n",
    "plt.contourf(X, Y, Z, levels = 50, cmap = 'jet')\n",
    "plt.xlim(-50, 50)\n",
    "plt.xticks(np.arange(-50, 50.1, 20))\n",
    "plt.ylim(-50, 50)\n",
    "plt.yticks(np.arange(-50, 50.1, 20))\n",
    "plt.xlabel('X', fontsize = 12)\n",
    "plt.ylabel('Y', fontsize = 12)\n",
    "plt.colorbar()\n",
    "plt.show()"
   ]
  }
 ],
 "metadata": {
  "kernelspec": {
   "display_name": "Python 3 (ipykernel)",
   "language": "python",
   "name": "python3"
  },
  "language_info": {
   "codemirror_mode": {
    "name": "ipython",
    "version": 3
   },
   "file_extension": ".py",
   "mimetype": "text/x-python",
   "name": "python",
   "nbconvert_exporter": "python",
   "pygments_lexer": "ipython3",
   "version": "3.9.13"
  }
 },
 "nbformat": 4,
 "nbformat_minor": 5
}
