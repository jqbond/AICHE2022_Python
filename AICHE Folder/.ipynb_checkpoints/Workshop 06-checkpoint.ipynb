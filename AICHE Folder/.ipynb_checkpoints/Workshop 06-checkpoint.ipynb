{
 "cells": [
  {
   "cell_type": "markdown",
   "metadata": {},
   "source": [
    "# Transitioning to application\n",
    "\n",
    "Now that you have the basic syntax down, you can start thinking about applications and solving real problems.  To do this, it is useful to develop skills with conditional/logical comparisons, loops, functions, and plotting.\n",
    "\n",
    "A big thing to remember is that there are probably dozens of ways to do anything in Python, and there are even probably multiple correct ways.  When you're learning, anything that gets you the correct solution is fine.  Don't worry about writing slick, elegant, optimized code from the start, especially for teaching.  Even if you can write cool one liners to do complex operations, they are usually cryptic to human readers, and they will blow students' minds.  Make it logical and human readable; leave optimization of code for after you have the basics down.\n",
    "\n",
    "## Conditionals, Loops, and Plotting\n"
   ]
  },
  {
   "cell_type": "code",
   "execution_count": 1,
   "metadata": {},
   "outputs": [],
   "source": [
    "import numpy as np"
   ]
  },
  {
   "cell_type": "markdown",
   "metadata": {},
   "source": [
    "## Booleans"
   ]
  },
  {
   "cell_type": "code",
   "execution_count": 2,
   "metadata": {},
   "outputs": [
    {
     "name": "stdout",
     "output_type": "stream",
     "text": [
      "False\n",
      "True\n"
     ]
    }
   ],
   "source": [
    "print(bool(0))\n",
    "print(bool(1))\n",
    "# print(bool([1]))\n",
    "# print(bool([]))\n",
    "# print(bool([10.0]))\n",
    "# print(bool({}))\n",
    "# print(bool('RTJ 3'))"
   ]
  },
  {
   "cell_type": "markdown",
   "metadata": {},
   "source": [
    "## Comparisons\n",
    "\n",
    "```python\n",
    ">        #Greater Than\n",
    "<        #Less Than\n",
    "==       #Equal To\n",
    ">=       #Greater Than or Equal To\n",
    "<=       #Less than or Equal To\n",
    "!=       #Not Equal To\n",
    "is       #Object Identity\n",
    "not   #Negated Object Identity\n",
    "```"
   ]
  },
  {
   "cell_type": "code",
   "execution_count": 6,
   "metadata": {},
   "outputs": [
    {
     "name": "stdout",
     "output_type": "stream",
     "text": [
      "True\n",
      "False\n",
      "True\n",
      "True\n",
      "True\n",
      "True\n"
     ]
    }
   ],
   "source": [
    "print(10 > 5)\n",
    "print(5  > 10)\n",
    "print(10 == 10)\n",
    "print(10 != 15)\n",
    "print(type('Hello!') == str)\n",
    "print(type('10') != float)"
   ]
  },
  {
   "cell_type": "code",
   "execution_count": 8,
   "metadata": {},
   "outputs": [
    {
     "name": "stdout",
     "output_type": "stream",
     "text": [
      "True\n"
     ]
    }
   ],
   "source": [
    "print(10 > 5  and 10 < 25)\n",
    "# print(10 > 15 and 10 < 25)\n",
    "# print(10 > 15 or  10 < 25)\n",
    "# print(10 > 15 or  29 < 25)\n",
    "# print(not 10 > 15)\n",
    "# print(not 15 > 10)"
   ]
  },
  {
   "cell_type": "code",
   "execution_count": 14,
   "metadata": {},
   "outputs": [],
   "source": [
    "z = 20\n",
    "# z = 20.1\n",
    "# print(10 < z <= 30)\n",
    "# print(10 < z <= 30 and type(z) == int)\n",
    "# print(10 < z <= 30 and (type(z) == int or type(z) == float))"
   ]
  },
  {
   "cell_type": "markdown",
   "metadata": {},
   "source": [
    "## Scope\n",
    "\n",
    "For various tests, loops, and function definitions, python uses a general structure of a keyword argument (`if`, `while`, `def`, `for`, etc.) to start the line, and a colon `:` to end it.  Subsequent lines are indented relative to the keyword;  indented space defines the scope of that operation, and you return to the workspace when you go back to flush with the keyword argument."
   ]
  },
  {
   "cell_type": "markdown",
   "metadata": {},
   "source": [
    "## If, Elif, and Else"
   ]
  },
  {
   "cell_type": "code",
   "execution_count": 23,
   "metadata": {},
   "outputs": [
    {
     "name": "stdout",
     "output_type": "stream",
     "text": [
      "Bowei is A Great TA!\n"
     ]
    }
   ],
   "source": [
    "Bowei = 'Great TA'\n",
    "# Bowei = 'Not a Great TA'\n",
    "if Bowei == 'Great TA':\n",
    "    print('Bowei is A Great TA!')"
   ]
  },
  {
   "cell_type": "code",
   "execution_count": 24,
   "metadata": {},
   "outputs": [
    {
     "name": "stdout",
     "output_type": "stream",
     "text": [
      "A is between 5 and 35!\n"
     ]
    }
   ],
   "source": [
    "A = 10\n",
    "# A = 100\n",
    "if 5 < A < 35:\n",
    "    print(\"A is between 5 and 35!\")\n",
    "elif 35 < A < 70:\n",
    "    print(\"A is between 35 and 70!\")\n",
    "else:\n",
    "    print(\"A is higher than I can count!\")"
   ]
  },
  {
   "cell_type": "code",
   "execution_count": 25,
   "metadata": {},
   "outputs": [],
   "source": [
    "import datetime\n",
    "x = datetime.datetime.now()\n",
    "if x.month == 5 and x.day == 28:\n",
    "    print(\"Happy Birthday Jesse!\")"
   ]
  },
  {
   "cell_type": "markdown",
   "metadata": {},
   "source": [
    "## While statements (while loops)"
   ]
  },
  {
   "cell_type": "code",
   "execution_count": 26,
   "metadata": {},
   "outputs": [
    {
     "name": "stdout",
     "output_type": "stream",
     "text": [
      "0.0\n",
      "1.0\n",
      "2.0\n",
      "3.0\n",
      "4.0\n",
      "5.0\n",
      "6.0\n",
      "7.0\n",
      "8.0\n",
      "9.0\n",
      "10.0\n"
     ]
    }
   ],
   "source": [
    "n = 0.0\n",
    "while n <= 10.0:\n",
    "    print(n)\n",
    "    n = n + 1.0"
   ]
  },
  {
   "cell_type": "code",
   "execution_count": 27,
   "metadata": {},
   "outputs": [
    {
     "name": "stdout",
     "output_type": "stream",
     "text": [
      "x is less than 10, it is 0\n",
      "x is less than 10, it is 1\n",
      "x is less than 10, it is 2\n",
      "x is less than 10, it is 3\n",
      "x is less than 10, it is 4\n",
      "x is less than 10, it is 5\n",
      "x is less than 10, it is 6\n",
      "x is less than 10, it is 7\n",
      "x is less than 10, it is 8\n",
      "x is less than 10, it is 9\n",
      "x is between 10 and 20, it is 10\n",
      "x is between 10 and 20, it is 11\n",
      "x is between 10 and 20, it is 12\n",
      "x is between 10 and 20, it is 13\n",
      "x is between 10 and 20, it is 14\n",
      "x is between 10 and 20, it is 15\n",
      "x is between 10 and 20, it is 16\n",
      "x is between 10 and 20, it is 17\n",
      "x is between 10 and 20, it is 18\n",
      "x is between 10 and 20, it is 19\n"
     ]
    }
   ],
   "source": [
    "x = 0\n",
    "while x < 20:\n",
    "    if x < 10:\n",
    "        print('x is less than 10, it is', x)\n",
    "    elif x >= 10 & x < 20:\n",
    "        print('x is between 10 and 20, it is', x)\n",
    "    x = x + 1"
   ]
  },
  {
   "cell_type": "markdown",
   "metadata": {},
   "source": [
    "\n",
    "## For Loops"
   ]
  },
  {
   "cell_type": "code",
   "execution_count": 29,
   "metadata": {},
   "outputs": [
    {
     "name": "stdout",
     "output_type": "stream",
     "text": [
      "1\n",
      "2\n",
      "3\n",
      "4\n",
      "5\n",
      "6\n",
      "7\n",
      "8\n",
      "9\n",
      "10\n",
      "11\n",
      "[1, 2, 3, 4, 5, 6, 7, 8, 9, 10, 11]\n"
     ]
    }
   ],
   "source": [
    "A = [1,2,3,4,5,6,7,8,9,10,11]\n",
    "\n",
    "for value in A:\n",
    "    print(value)\n",
    "print(A)"
   ]
  },
  {
   "cell_type": "markdown",
   "metadata": {},
   "source": [
    "## Adding complexity to the loop\n",
    "\n",
    "There are an infinite number of ways to use a for loop. In very general terms, the two things that I do most commonly with for loops in Python are: \n",
    "\n",
    "1. Perform an operation directly on each element in the iterable\n",
    "2. Use the iterable as an index to reference elements in data sets for operations in a for loop."
   ]
  },
  {
   "cell_type": "code",
   "execution_count": null,
   "metadata": {},
   "outputs": [],
   "source": [
    "for value in A:\n",
    "    print(value**2)\n",
    "\n",
    "# for value in A:\n",
    "#     print(value - 74)\n",
    "    \n",
    "# for value in A:\n",
    "#     print(value%2)"
   ]
  },
  {
   "cell_type": "markdown",
   "metadata": {},
   "source": [
    "## Iterating over a range"
   ]
  },
  {
   "cell_type": "code",
   "execution_count": 30,
   "metadata": {},
   "outputs": [
    {
     "name": "stdout",
     "output_type": "stream",
     "text": [
      "[]\n",
      "[10]\n",
      "[10, 9]\n",
      "[10, 9, 8]\n",
      "[10, 9, 8, 7]\n",
      "[10, 9, 8, 7, 6]\n",
      "[10, 9, 8, 7, 6, 5]\n",
      "[10, 9, 8, 7, 6, 5, 4]\n",
      "[10, 9, 8, 7, 6, 5, 4, 3]\n",
      "[10, 9, 8, 7, 6, 5, 4, 3, 2]\n",
      "[10, 9, 8, 7, 6, 5, 4, 3, 2, 1]\n",
      "[10, 9, 8, 7, 6, 5, 4, 3, 2, 1, 0]\n",
      "[10, 9, 8, 7, 6, 5, 4, 3, 2, 1, 0, -1]\n",
      "[10, 9, 8, 7, 6, 5, 4, 3, 2, 1, 0, -1, -2]\n",
      "[10, 9, 8, 7, 6, 5, 4, 3, 2, 1, 0, -1, -2, -3]\n",
      "[10, 9, 8, 7, 6, 5, 4, 3, 2, 1, 0, -1, -2, -3, -4]\n",
      "[10, 9, 8, 7, 6, 5, 4, 3, 2, 1, 0, -1, -2, -3, -4, -5]\n",
      "[10, 9, 8, 7, 6, 5, 4, 3, 2, 1, 0, -1, -2, -3, -4, -5, -6]\n",
      "[10, 9, 8, 7, 6, 5, 4, 3, 2, 1, 0, -1, -2, -3, -4, -5, -6, -7]\n",
      "[10, 9, 8, 7, 6, 5, 4, 3, 2, 1, 0, -1, -2, -3, -4, -5, -6, -7, -8]\n",
      "[10, 9, 8, 7, 6, 5, 4, 3, 2, 1, 0, -1, -2, -3, -4, -5, -6, -7, -8, -9]\n",
      "[10, 9, 8, 7, 6, 5, 4, 3, 2, 1, 0, -1, -2, -3, -4, -5, -6, -7, -8, -9, -10]\n"
     ]
    }
   ],
   "source": [
    "B = []\n",
    "for i in range(10,-11,-1):\n",
    "    print(B)\n",
    "    B.append(i)\n",
    "print(B)"
   ]
  },
  {
   "cell_type": "markdown",
   "metadata": {},
   "source": [
    "## Using the iterator as an index in your for loop"
   ]
  },
  {
   "cell_type": "code",
   "execution_count": 31,
   "metadata": {},
   "outputs": [],
   "source": [
    "meas = [10.75, 12.52, 17.90, 18.4, 22.36, 35.10, 56.2, 74.95] \n",
    "pred = [9.4, 13.62, 15.89, 19.23, 21.75, 36.24, 59.46, 73.13]"
   ]
  },
  {
   "cell_type": "code",
   "execution_count": 32,
   "metadata": {},
   "outputs": [
    {
     "name": "stdout",
     "output_type": "stream",
     "text": [
      "[1.8224999999999991, 1.2099999999999993, 4.040099999999992, 0.6889000000000031, 0.3720999999999993, 1.2996000000000012, 10.627599999999987, 3.312400000000027] \n",
      "\n",
      "23.373200000000004\n"
     ]
    }
   ],
   "source": [
    "SE = []                           #initialize by creating an empty list\n",
    "for k in range(0, len(meas)):\n",
    "    residual = meas[k] - pred[k]  #calculate residual error\n",
    "    SE.append(residual**2)        #append square of residual to SE list\n",
    "SSE = sum(SE)                     #calculate sum of squares   \n",
    "print(SE, '\\n')                   #display square errors\n",
    "print(SSE)                        #display sum of squares"
   ]
  },
  {
   "cell_type": "markdown",
   "metadata": {},
   "source": [
    "## List Comprehensions"
   ]
  },
  {
   "cell_type": "code",
   "execution_count": null,
   "metadata": {},
   "outputs": [],
   "source": [
    "squares = []\n",
    "for x in range(1, 746):\n",
    "    squares.append(x**2)\n",
    "\n",
    "print(squares[0:11])\n",
    "print(squares[-1]**(1/2))"
   ]
  },
  {
   "cell_type": "code",
   "execution_count": 33,
   "metadata": {},
   "outputs": [],
   "source": [
    "squares = [x**2 for x in range(1,746)]\n",
    "\n",
    "print(squares[0:11])\n",
    "print(squares[-1]**(1/2))"
   ]
  },
  {
   "cell_type": "markdown",
   "metadata": {},
   "source": [
    "### Vectorized operations with numpy arrays can sometimes replace for loops"
   ]
  },
  {
   "cell_type": "code",
   "execution_count": null,
   "metadata": {},
   "outputs": [],
   "source": [
    "squaresarray = np.linspace(1, 745, 745)**2\n",
    "print(squaresarray[0:11])\n",
    "print(squaresarray[-1]**(1/2))"
   ]
  },
  {
   "cell_type": "code",
   "execution_count": null,
   "metadata": {},
   "outputs": [],
   "source": [
    "measarray = np.array(meas)\n",
    "predarray  = np.array(pred)\n",
    "residualarray = measarray - predarray\n",
    "SE = residualarray**2\n",
    "SSE = np.sum(SE) #numpy's implementation of sum()\n",
    "print(SSE)"
   ]
  },
  {
   "cell_type": "markdown",
   "metadata": {},
   "source": [
    "### You can iterate over lots of things...\n",
    "\n",
    "Now, let's try to abstract the idea of a for loop a bit more by covering different types of iterables. We'll do a little exploration by writing a generic bit of code that we can modify to test out different types of iterables. "
   ]
  },
  {
   "cell_type": "code",
   "execution_count": null,
   "metadata": {},
   "outputs": [],
   "source": [
    "test = [1, 2, 3, 4, 5, 6, 7, 8, 9, 10, 11]           #this is a list\n",
    "# test = (1, 2, 3, 4, 5, 6, 7, 8, 9, 10, 11)           #this is a tuple\n",
    "# test = np.array([1, 2, 3, 4, 5, 6, 7, 8, 9, 10, 11]) #this is a numpy array\n",
    "# test = range(1, 12)                                  #this is a range\n",
    "# test = 'These go to eleven'                          #this is a string\n",
    "# test = 7         #An integer\n",
    "# test = 7.0       #A floating point decimal\n",
    "# test = True      #A boolean\n",
    "# test = 4.75 + 3j #A complex number\n",
    "iterable = test\n",
    "for var in iterable:\n",
    "    print(var)"
   ]
  },
  {
   "cell_type": "markdown",
   "metadata": {},
   "source": [
    "## A more complex example"
   ]
  },
  {
   "cell_type": "code",
   "execution_count": 34,
   "metadata": {},
   "outputs": [],
   "source": [
    "import random\n",
    "random.seed(1)\n",
    "DS = [random.randint(-75,75) for s in range(0,100,1)] #units all in J/mol/K\n",
    "DH = [random.randint(-100000,100000) for h in range(0,100,1)] #units all in J/mol"
   ]
  },
  {
   "cell_type": "code",
   "execution_count": null,
   "metadata": {},
   "outputs": [],
   "source": [
    "T = 500 #K\n",
    "R = 8.314 #J/mol/K\n",
    "K = []\n",
    "for i in range(0,100):\n",
    "    DG   = DH[i] - T*DS[i]\n",
    "    temp = np.exp(-DG/R/T)\n",
    "    K.append(temp)\n",
    "# K"
   ]
  },
  {
   "cell_type": "markdown",
   "metadata": {},
   "source": [
    "## Increasing dimensionality..."
   ]
  },
  {
   "cell_type": "code",
   "execution_count": null,
   "metadata": {},
   "outputs": [],
   "source": [
    "Temperature = list(range(300, 901, 2))"
   ]
  },
  {
   "cell_type": "markdown",
   "metadata": {},
   "source": [
    "### Calculate 100 K values at 301 temperatures..."
   ]
  },
  {
   "cell_type": "code",
   "execution_count": null,
   "metadata": {},
   "outputs": [],
   "source": [
    "K = []       \n",
    "for i in range(0,100):        \n",
    "    Krxn = []                 \n",
    "    for T in Temperature:     \n",
    "        DG = DH[i] - T*DS[i]  \n",
    "        temp = np.exp(-DG/R/T)   \n",
    "        Krxn.append(temp)     \n",
    "    K.append(Krxn)    "
   ]
  },
  {
   "cell_type": "markdown",
   "metadata": {},
   "source": [
    "### We need a good way to view K...importing pyplot\n"
   ]
  },
  {
   "cell_type": "code",
   "execution_count": null,
   "metadata": {},
   "outputs": [],
   "source": [
    "import matplotlib.pyplot as plt"
   ]
  },
  {
   "cell_type": "markdown",
   "metadata": {},
   "source": [
    "### Basic graphing syntax in pyplot\n",
    "\n",
    "\n",
    "Pyplot syntax is very similar to Matlab. In general any type of plot you want to create is specified by:\n",
    "\n",
    "```python\n",
    "plt.plot(independent_variable,dependent_variable)\n",
    "```"
   ]
  },
  {
   "cell_type": "code",
   "execution_count": null,
   "metadata": {},
   "outputs": [],
   "source": [
    "plt.plot(Temperature,K[0]) #equivalent to plt.plot(Temperature, K[0][:])"
   ]
  },
  {
   "cell_type": "markdown",
   "metadata": {},
   "source": [
    "### A semilog plot"
   ]
  },
  {
   "cell_type": "code",
   "execution_count": null,
   "metadata": {},
   "outputs": [],
   "source": [
    "print(K[0][1])\n",
    "print(K[0][-1])"
   ]
  },
  {
   "cell_type": "code",
   "execution_count": null,
   "metadata": {},
   "outputs": [],
   "source": [
    "plt.semilogy(Temperature, K[0])\n",
    "plt.show()"
   ]
  },
  {
   "cell_type": "markdown",
   "metadata": {},
   "source": [
    "### Stacking plots"
   ]
  },
  {
   "cell_type": "code",
   "execution_count": null,
   "metadata": {},
   "outputs": [],
   "source": [
    "plt.semilogy(Temperature, K[0])\n",
    "plt.semilogy(Temperature, K[1])\n",
    "plt.show()"
   ]
  },
  {
   "cell_type": "markdown",
   "metadata": {},
   "source": [
    "This would include equilibrium constants for the first and second reaction as a function of temperature on the same graph. It is treated equivalently to typing:"
   ]
  },
  {
   "cell_type": "code",
   "execution_count": null,
   "metadata": {},
   "outputs": [],
   "source": [
    "plt.semilogy(Temperature, K[0], Temperature, K[1])"
   ]
  },
  {
   "cell_type": "markdown",
   "metadata": {},
   "source": [
    "### Stacking a lot of plots...\n",
    "\n",
    "Well, of course now that we went and generated a 100 x 301 data set, I would really like to plot **all** 100 equilibrium constants as a function of temperature, but I really do not want to write a plot command for every element in that list of lists, e.g.,\n",
    "\n",
    "    plt.plot(Temperature, K[0][:], Temperature, K[1][:], Temperature, K[2][:]...)\n",
    "    \n",
    "If I have a good understanding about how my loops and indices are working, I can do this easily in my for loop by taking advantage of Python's layering sequential plots onto each other.  Let's modify that last loop just a bit to include a plot command:"
   ]
  },
  {
   "cell_type": "code",
   "execution_count": null,
   "metadata": {},
   "outputs": [],
   "source": [
    "K = []                        \n",
    "for i in range(0, 100):   #iterate over all reactions    \n",
    "    Krxn = []                 \n",
    "    for T in Temperature: #iterate over all temperaturees    \n",
    "        DG = DH[i] - T*DS[i]  \n",
    "        temp = np.exp(-DG/R/T)  \n",
    "        Krxn.append(temp)    \n",
    "    K.append(Krxn)             \n",
    "    plt.semilogy(Temperature,K[i])  #This adds the 301 equilibrium constants for the current reaction to the plot."
   ]
  }
 ],
 "metadata": {
  "kernelspec": {
   "display_name": "Python 3 (ipykernel)",
   "language": "python",
   "name": "python3"
  },
  "language_info": {
   "codemirror_mode": {
    "name": "ipython",
    "version": 3
   },
   "file_extension": ".py",
   "mimetype": "text/x-python",
   "name": "python",
   "nbconvert_exporter": "python",
   "pygments_lexer": "ipython3",
   "version": "3.9.13"
  }
 },
 "nbformat": 4,
 "nbformat_minor": 4
}
