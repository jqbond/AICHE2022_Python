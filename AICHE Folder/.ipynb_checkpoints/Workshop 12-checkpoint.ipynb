{
 "cells": [
  {
   "cell_type": "markdown",
   "metadata": {},
   "source": [
    "# Numerical Solution of Ordinary Differential Equations"
   ]
  },
  {
   "cell_type": "code",
   "execution_count": 1,
   "metadata": {},
   "outputs": [],
   "source": [
    "import numpy as np \n",
    "import matplotlib.pyplot as plt\n",
    "from scipy.integrate import solve_ivp\n",
    "import scipy.optimize as opt\n",
    "import pandas as pd\n",
    "import time"
   ]
  },
  {
   "cell_type": "markdown",
   "metadata": {},
   "source": [
    "## The Euler Method\n",
    "\n",
    "The most basic approach is the Euler method, which is basically just an algebraic rearrangement of the classic definition of a slope (m) of a function:\n",
    "\n",
    "$$m = \\frac{dy}{dx} \\approx \\frac{\\Delta y}{\\Delta x}$$\n",
    "\n",
    "Rearranging:\n",
    "\n",
    "$$\\Delta y = m\\cdot \\Delta x$$\n",
    "\n",
    "Substituting discrete values of y and x in for the deltas:\n",
    "\n",
    "$$y_1 - y_0 = \\frac{dy}{dx} \\cdot(x_1 - x_0)$$\n",
    "\n",
    "We start at our initial value of (x0,y0); then, we take a small, numerical step in $x$, $\\Delta x$ (let's call it $x_{step}$), and we update our value of the variable of interest, y, based on the derivative at $x_i$, which we assume is constant over the step h and thus extrapolate over the whole step:\n",
    "\n",
    "$$y_1 = y_0 + \\frac{dy}{dx} \\cdot x_{step}$$\n",
    "\n",
    "Generally, we'll write it as an iterative loop in terms of $x_i$ and $x_{i+1}$\n",
    "\n",
    "$$y_{i+1} = y_i + \\frac{dy}{dx} \\cdot x_{step}$$\n",
    "\n",
    "## Example 01: A first order ODE\n",
    "\n",
    "Let's test this method on a first order ordinary differential equation:\n",
    "\n",
    "$$\\frac{dy}{dx} = -y \\ \\ \\textrm{with} \\ \\ y(0) = 10$$\n",
    "\n",
    "### Analytical Solution\n",
    "\n",
    "We know that the analytical solution to this initial value problem is the following exponential function:\n",
    "\n",
    "$$y(x) = 10 e^{-x}$$\n",
    "\n",
    "Plot the solution to this IVP, y(x), over the domain x = [0, 6] in order to visualize how y changes as a function of x. Note, I called my function \"ytrue(x)\", and I evaluated it on a numpy array of x-values from 0 to 6 called \"xtrue.\"  If you see those labels subsequently in this worksheet, it just means that I am using the analytical solution to this initial value problem, $y(x) = 10e^{-x}$"
   ]
  },
  {
   "cell_type": "code",
   "execution_count": null,
   "metadata": {},
   "outputs": [],
   "source": [
    "def ytrue(x):\n",
    "    return 10*np.exp(-x)\n",
    "xtrue = np.linspace(0, 6, 100)\n",
    "\n",
    "## Plot solution\n",
    "plt.figure(1, figsize = (5, 5))\n",
    "plt.plot(xtrue, ytrue(xtrue), color = 'black', label = 'analytical solution')\n",
    "plt.xlabel('x', fontsize = 12)\n",
    "plt.ylabel('y', fontsize = 12)\n",
    "plt.title('Solutions to a First order ODE')\n",
    "plt.xlim(0, 6)\n",
    "plt.ylim(0, 10)\n",
    "plt.legend()\n",
    "plt.show()"
   ]
  },
  {
   "cell_type": "markdown",
   "metadata": {},
   "source": [
    "### An approximate solution with the Euler Method"
   ]
  },
  {
   "cell_type": "code",
   "execution_count": null,
   "metadata": {},
   "outputs": [],
   "source": [
    "xstep = 0.75               #I get to choose the size of the step for the independent variable\n",
    "x = 0                      #initial x\n",
    "y = 10                     #initial y\n",
    "xlist = [0]                #I'm going to store all x values in a list; initializing that list here\n",
    "ylist = [10]               #Initialize a list containing y values for each x value\n",
    "\n",
    "while xlist[-1] < 6:       #I want to continue iterating until I reach x = 6\n",
    "    dydx = -y              #derivative of y with respect to x   \n",
    "    y    =  y + xstep*dydx #update y value using an Euler step\n",
    "    x    =  x + xstep      #update x value using step size\n",
    "    xlist.append(x)        #append new value of x\n",
    "    ylist.append(y)        #append new value of y\n",
    "#     plt.plot(xtrue, ytrue(xtrue)) #plot true solution\n",
    "#     for i in range(0, len(xlist)-1):\n",
    "#         plt.plot([xlist[i], xlist[i+1]], [ylist[i], ylist[i+1]],':', color = 'k') #illustrate numerical steps in y\n",
    "#     plt.show()             #show plot\n",
    "#     time.sleep(2)          #pause for 2 seconds before next iteration\n",
    "\n",
    "plt.figure(1, figsize = (5, 5))\n",
    "plt.plot(xtrue, ytrue(xtrue), color = 'black', label = 'analytical solution')\n",
    "plt.scatter(xlist, ylist, color = 'none', edgecolor = 'blue', label = 'Euler solution')      #plot full set of numerical estimates of y for values in xlist\n",
    "plt.xlabel('x', fontsize = 12)\n",
    "plt.ylabel('y', fontsize = 12)\n",
    "plt.title('Solutions to a First order ODE')\n",
    "plt.xlim(0, 6)\n",
    "plt.ylim(0, 10)\n",
    "plt.legend()\n",
    "plt.show()\n"
   ]
  },
  {
   "cell_type": "code",
   "execution_count": null,
   "metadata": {},
   "outputs": [],
   "source": [
    "xstep = 0.05               #I get to choose the size of the step for the independent variable\n",
    "x = 0                      #initial x\n",
    "y = 10                     #initial y\n",
    "xlist = [0]                #I'm going to store all x values in a list; initializing that list here\n",
    "ylist = [10]               #Initialize a list containing y values for each x value\n",
    "\n",
    "while xlist[-1] < 6:       #I want to continue iterating until I reach x = 6\n",
    "    dydx = -y              #derivative of y with respect to x   \n",
    "    y    =  y + xstep*dydx #update y value using an Euler step\n",
    "    x    =  x + xstep      #update x value using step size\n",
    "    xlist.append(x)        #append new value of x\n",
    "    ylist.append(y)        #append new value of y\n",
    "#     plt.plot(xtrue, ytrue(xtrue)) #plot true solution\n",
    "#     for i in range(0, len(xlist)-1):\n",
    "#         plt.plot([xlist[i], xlist[i+1]], [ylist[i], ylist[i+1]],':', color = 'k') #illustrate numerical steps in y\n",
    "#     plt.show()             #show plot\n",
    "#     time.sleep(2)          #pause for 2 seconds before next iteration\n",
    "\n",
    "plt.figure(1, figsize = (5, 5))\n",
    "plt.plot(xtrue, ytrue(xtrue), color = 'black', label = 'analytical solution')\n",
    "plt.scatter(xlist, ylist, color = 'none', edgecolor = 'blue', label = 'Euler solution')      #plot full set of numerical estimates of y for values in xlist\n",
    "plt.xlabel('x', fontsize = 12)\n",
    "plt.ylabel('y', fontsize = 12)\n",
    "plt.title('Solutions to a First order ODE')\n",
    "plt.xlim(0, 6)\n",
    "plt.ylim(0, 10)\n",
    "plt.legend()\n",
    "plt.show()\n"
   ]
  },
  {
   "cell_type": "markdown",
   "metadata": {},
   "source": [
    "## Higher Order Methods (Runge-Kutta)\n",
    "\n",
    "https://en.wikipedia.org/wiki/Runge%E2%80%93Kutta_methods\n",
    "\n",
    "## `Scipy.integrate`\n",
    "\n",
    "### Function formatting for use with `scipy.integrate`\n",
    "\n",
    "To perform a numerical solution of an ODE or system of ODEs in Python, we need to write a function. This will be a multivariate, vector function, very similar to what we did with `opt.root()`. It should be of the form `f(independent variable, dependent variable)`, where \"dependent variable\" is an array of all dependent or \"state\" variables in the ODE system, and it should return a vector of derivatives for each state variable with respect to the independent variable.\n",
    "\n",
    "The basic rules:\n",
    "\n",
    "1. The first argument to the function should be a scalar representing the ***independent*** variable that describes your system. As far as the ODE solver is concerned, it is always a scalar. Remember that these loops work iteratively, and at any given time, there is only a single value of the independent variable that you are considering. \n",
    "2.  The second argument to the function should be an array-like structure (array, tuple, list) that contains all of the dependent variables in the system of ODEs that you are solving. For a single ODE, that argument will be a scalar. \n",
    "3. The function should return the deriviative of each depedent variable with respect to the single independent variable in a vector-like structure (array, tuple, list). If it is a single ODE, simply return a scalar.\n",
    "\n",
    "For the simple first order example above, this would be an appropriate way to format your function to pass to the ODE solver; you'll see that it adhere's to the rules above:"
   ]
  },
  {
   "cell_type": "code",
   "execution_count": null,
   "metadata": {},
   "outputs": [],
   "source": [
    "def D(x, y):        #function declaration - function should be of form f(independent variable, dependent variable)\n",
    "    dydx = -y       #Calculate the value of the derivative of y at the current value of x\n",
    "    return dydx     #return the value of the derivative of y at the current value of x"
   ]
  },
  {
   "cell_type": "markdown",
   "metadata": {},
   "source": [
    "### Using Scipy's `solve_ivp()`\n",
    "\n",
    "To solve this *initial value problem* numerically, we'll call solve_ivp from the scipy.integrate package. It's basic syntax is:\n",
    "\n",
    "```python\n",
    "solve_ivp(function name, span of independent variables to integrate over, initial values of dependent variables)\n",
    "```\n",
    "\n",
    "https://docs.scipy.org/doc/scipy/reference/generated/scipy.integrate.solve_ivp.html#scipy.integrate.solve_ivp\n",
    "\n",
    "It has a few particulars.  \n",
    "\n",
    "1. The function must be of the form f(independent, dependent, \\*args); it can have additional arguments, but you will need to pass them using the args keyword in the `solve_ivp()` options.\n",
    "2. The span for the independent variable needs to be in the form of a 2-element array that contains the starting point and the ending point only. If you need to get a different set of (independent, dependent) value pairs out, we'll handle that later using the `t_eval` keyword argument using `solve_ivp` options. \n",
    "3. The initial value(s) for the dependent variables must be in a 1-D array like structure, even if you are only solving 1 ODE.\n",
    "4. The function should return an array-like structure containing the derivatives of each dependent variable with respect to the independent variable\n",
    "\n",
    "For this specific example, we are starting at y(0) = 10, and we are integrating from x = 0 to x = 6. Putting that into a format that works with `solve_ivp()`, we would say `y0 = [10]` and `xspan =(0, 6)`. We can then pass our function, integration span, and initial value for y to `solve_ivp()`, which will solve the differential equation numerically: `solve_ivp(D, xspan, y0)`."
   ]
  },
  {
   "cell_type": "code",
   "execution_count": null,
   "metadata": {},
   "outputs": [],
   "source": [
    "y0 = [10]\n",
    "xspan =(0, 6)\n",
    "solve_ivp(D, xspan, y0)"
   ]
  },
  {
   "cell_type": "markdown",
   "metadata": {},
   "source": [
    "Often, I save the output, which enables convenient post-analysis (plotting, etc.)  "
   ]
  },
  {
   "cell_type": "code",
   "execution_count": null,
   "metadata": {},
   "outputs": [],
   "source": [
    "sol = solve_ivp(D, xspan, y0)  #numerical solution of ODE\n",
    "print(sol.t)                   #print independent variable values, loosely called \"t\" in many solvers\n",
    "print(sol.y)                   #print dependent variable values, loosely called \"y\" in many solvers\n",
    "\n",
    "plt.figure(1, figsize = (5, 5))\n",
    "plt.plot(xtrue, ytrue(xtrue), color = 'black', label = 'analytical solution')\n",
    "plt.scatter(sol.t, sol.y, marker = 'o', color = 'blue', label = 'Solve_ivp solution') \n",
    "plt.xlabel('x', fontsize = 12)\n",
    "plt.ylabel('y', fontsize = 12)\n",
    "plt.title('Solutions to a First order ODE')\n",
    "plt.xlim(0, 6)\n",
    "plt.ylim(0, 10)\n",
    "plt.legend()\n",
    "plt.show()"
   ]
  },
  {
   "cell_type": "markdown",
   "metadata": {},
   "source": [
    "### Step size in solvers\n",
    "\n",
    "You may notice from the plot that the solver did not take even steps in x.  \n",
    "\n",
    "### Increasing Precision"
   ]
  },
  {
   "cell_type": "code",
   "execution_count": null,
   "metadata": {},
   "outputs": [],
   "source": [
    "sol = solve_ivp(D, xspan, y0, atol = 1e-10, rtol = 1e-10)\n",
    "\n",
    "plt.figure(1, figsize = (5, 5))\n",
    "plt.plot(xtrue, ytrue(xtrue), color = 'black', label = 'analytical solution')\n",
    "plt.scatter(sol.t, sol.y, marker = 'o', color = 'blue', label = 'Solve_ivp solution') \n",
    "plt.xlabel('x', fontsize = 12)\n",
    "plt.ylabel('y', fontsize = 12)\n",
    "plt.title('Solutions to a First order ODE')\n",
    "plt.xlim(0, 6)\n",
    "plt.ylim(0, 10)\n",
    "plt.legend()\n",
    "plt.show()"
   ]
  },
  {
   "cell_type": "markdown",
   "metadata": {},
   "source": [
    "### Returning the solution at specific times\n",
    "\n",
    "Alternatively, Let's say I wanted to plot the numerical solution on set of 15 evenly spaced x-values"
   ]
  },
  {
   "cell_type": "code",
   "execution_count": null,
   "metadata": {},
   "outputs": [],
   "source": [
    "xgrid = np.linspace(0, 6, 15)\n",
    "sol = solve_ivp(D, xspan, y0, t_eval = xgrid)\n",
    "\n",
    "plt.figure(1, figsize = (5, 5))\n",
    "plt.plot(xtrue, ytrue(xtrue), color = 'black', label = 'analytical solution')\n",
    "plt.scatter(sol.t, sol.y, marker = 'o', color = 'blue', label = 'Solve_ivp solution') \n",
    "plt.xlabel('x', fontsize = 12)\n",
    "plt.ylabel('y', fontsize = 12)\n",
    "plt.title('Solutions to a First order ODE')\n",
    "plt.xlim(0, 6)\n",
    "plt.ylim(0, 10)\n",
    "plt.legend()\n",
    "plt.show()"
   ]
  },
  {
   "cell_type": "markdown",
   "metadata": {},
   "source": [
    "### Returning a polynomial approximation for the ODE solution\n",
    "\n",
    "It is important to recognize that these step-based ODE solvers will provide a discrete set of y-values for a discrete set of t-values; they are not a continuous function y(t).  "
   ]
  },
  {
   "cell_type": "code",
   "execution_count": null,
   "metadata": {},
   "outputs": [],
   "source": [
    "sol = solve_ivp(D, xspan, y0, dense_output = True)\n",
    "print(sol)"
   ]
  },
  {
   "cell_type": "code",
   "execution_count": null,
   "metadata": {},
   "outputs": [],
   "source": [
    "sol.sol(3)"
   ]
  },
  {
   "cell_type": "code",
   "execution_count": null,
   "metadata": {},
   "outputs": [],
   "source": [
    "sol.sol(np.array([1, 2.6, 3.175, 4]))"
   ]
  },
  {
   "cell_type": "markdown",
   "metadata": {},
   "source": [
    "### Options in `solve_ivp()`\n",
    "\n",
    "The options available for solve_ivp are *extensive*.  We will not cover all of them for a few reasons.  First, we don't have the time and space to devote to this.  Second, generally speaking, the default options on things like function tolerance or maximum step sizes are pretty good.  Changing them requires a good understanding of how they work and why they are important.  Changing them haphazardly can be dangerous.  I would suggest researching the options available and putting serious thought into the ones that are relevant to your problem and *might* be worth changing.\n",
    "\n",
    "The only other one that we'll mention is the method keyword.  Most of the time, the default method will be fine for you.  Sometimes, you will encounter *stiff* systems of differential equations. The default solver in `solve_ivp()` is RK45, an explicit Runge–Kutta–Fehlberg method (4th order method, 5th order error estimate). It is not efficient for stiff systems, so you would want to change to Radau, BDF, or LSODA methods if you need to solve a stiff system:"
   ]
  },
  {
   "cell_type": "code",
   "execution_count": null,
   "metadata": {},
   "outputs": [],
   "source": [
    "solve_ivp(D, xspan, y0, method = 'Radau')\n",
    "# solve_ivp(D, xspan, y0, method = 'BDF')\n",
    "# solve_ivp(D, xspan, y0, method = 'LSODA')"
   ]
  },
  {
   "cell_type": "markdown",
   "metadata": {},
   "source": [
    "## Example 02: Coupled Systems of ODES\n",
    "\n",
    "We covered a lot of ground in terms of how to use the solvers above, but all of the examples we have considered so far deal with one ODE that we can easily solve by hand. Numerical ODE solvers really shine when you have a very complex differential equation that does not have an analytical solution, or when you have coupled systems of nonlinear differential equations, which are generally either very difficult or impossible to solve analytically. By \"coupled\" differential equations, I mean that the derivatives of the dependent variables are functions of each other (see system below). \n",
    "\n",
    "\\begin{align*}\n",
    "\\frac{dx}{dt} &= -x^2 + y^2 \\\\\n",
    "\\frac{dy}{dt} &= -xy \\\\\n",
    "x(0) &= 0 \\\\\n",
    "y(0) &= 3 \\\\\n",
    "\\end{align*}\n",
    "\n",
    "A typical question we might ask about this system is **what are the values of x and y at t = 10?**\n",
    "\n",
    "I see that dx/dt is a function of x and y, and dy/dt is also a function of x and y.  I cannot solve one without solving the other. Though it is sometimes possible to solve a coupled system analytically, the vast majority of cases must be handled with numerical methods.  Fortunately, the framework we established above for solving a single differential equation is very general, and it is super easy to extend it to systems of differential equations. \n",
    "\n",
    "We just need to formulate our system of differential equations as multivariate vector functions of the form f(t,y) or, in other words, f(independent variable, dependent variable). Both of our dependent variables, (x and y in this case), need to be passed to the function in a single, vector-like structure. The function also needs to return dx/dt and dy/dt in a vector-like structure (tuple, array, list). For this example, the following is an acceptable way to define that function using lists:"
   ]
  },
  {
   "cell_type": "code",
   "execution_count": null,
   "metadata": {},
   "outputs": [],
   "source": [
    "def diffs(t,var):\n",
    "    x, y = var\n",
    "    dxdt = -x**2 + y**2\n",
    "    dydt = -x*y\n",
    "    return [dxdt, dydt]"
   ]
  },
  {
   "cell_type": "code",
   "execution_count": null,
   "metadata": {},
   "outputs": [],
   "source": [
    "tspan = (0, 10)   #Integration span\n",
    "x0    = 0\n",
    "y0    = 3\n",
    "var0  = [x0, y0]  #initial values for x and y, using a list\n",
    "solve_ivp(diffs, tspan, var0) #use solve_ivp to solve the system of ODEs"
   ]
  },
  {
   "cell_type": "markdown",
   "metadata": {},
   "source": [
    "### The solution structure for Systems of ODEs"
   ]
  },
  {
   "cell_type": "code",
   "execution_count": null,
   "metadata": {},
   "outputs": [],
   "source": [
    "tgrid = np.linspace(0, 10, 100)\n",
    "sol = solve_ivp(diffs, tspan, var0, t_eval = tgrid)\n",
    "t   = sol.t\n",
    "x   = sol.y[0,:]\n",
    "y   = sol.y[1,:]\n",
    "\n",
    "plt.figure(1, figsize = (5, 5))\n",
    "plt.plot(t, x, linestyle = 'dashed', color = 'black', label = 'x')\n",
    "plt.plot(t, y, color = 'blue', label = 'y')\n",
    "plt.xlabel('t', fontsize = 12)\n",
    "plt.ylabel('x, y', fontsize = 12)\n",
    "plt.title('Solutions to Coupled ODEs')\n",
    "plt.xlim(0, 10)\n",
    "plt.ylim(0, 4)\n",
    "plt.legend()\n",
    "plt.show()"
   ]
  },
  {
   "cell_type": "markdown",
   "metadata": {},
   "source": [
    "### Passing Extra Arguments with `solve_ivp()`\n",
    "\n",
    "\\begin{align*}\n",
    "\\frac{dx}{dt} &= -ax^2 + by^2 \\\\\n",
    "\\frac{dy}{dt} &= -cxy \\\\\n",
    "x(0) &= 0 \\\\\n",
    "y(0) &= 3 \\\\\n",
    "\\end{align*}"
   ]
  },
  {
   "cell_type": "code",
   "execution_count": null,
   "metadata": {},
   "outputs": [],
   "source": [
    "def diffs(t,var, a, b, c):\n",
    "    x, y = var\n",
    "    dxdt = -a*x**2 + b*y**2\n",
    "    dydt = -c*x*y\n",
    "    return [dxdt, dydt]\n",
    "\n",
    "tspan = (0, 10)   #Integration span\n",
    "x0    = 0\n",
    "y0    = 3\n",
    "var0  = [x0, y0]  #initial values for x and y\n",
    "a     = 0.2\n",
    "b     = 1.3\n",
    "c     = 8\n",
    "\n",
    "sol = solve_ivp(diffs, tspan, var0, args = (a, b, c), atol = 1e-8, rtol = 1e-8)\n",
    "t   = sol.t\n",
    "x   = sol.y[0,:]\n",
    "y   = sol.y[1,:]\n",
    "\n",
    "plt.figure(1, figsize = (5, 5))\n",
    "plt.plot(t, x, linestyle = 'dashed', color = 'black', label = 'x')\n",
    "plt.plot(t, y, color = 'blue', label = 'y')\n",
    "plt.xlabel('t', fontsize = 12)\n",
    "plt.ylabel('x, y', fontsize = 12)\n",
    "plt.title('Solutions to Coupled ODEs')\n",
    "plt.xlim(0, 10)\n",
    "plt.ylim(0, 4)\n",
    "plt.legend()\n",
    "plt.show()"
   ]
  }
 ],
 "metadata": {
  "kernelspec": {
   "display_name": "Python 3 (ipykernel)",
   "language": "python",
   "name": "python3"
  },
  "language_info": {
   "codemirror_mode": {
    "name": "ipython",
    "version": 3
   },
   "file_extension": ".py",
   "mimetype": "text/x-python",
   "name": "python",
   "nbconvert_exporter": "python",
   "pygments_lexer": "ipython3",
   "version": "3.9.13"
  }
 },
 "nbformat": 4,
 "nbformat_minor": 4
}
