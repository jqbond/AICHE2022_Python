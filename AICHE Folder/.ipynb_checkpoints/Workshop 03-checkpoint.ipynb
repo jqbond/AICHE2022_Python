{
 "cells": [
  {
   "cell_type": "markdown",
   "metadata": {},
   "source": [
    "# You have to teach Python -- you should assume zero knowledge\n",
    "\n",
    "Think of what it was like when you first tried to pick up a programming language.  Python is vast and has a lot of complexity. It is impossible to forecast all of the things you'll need students to know or do in Python, and trying to forecast that complexity at the frontend is overwhelming.  Throughout these exercises, I try to follow the guidance of: \n",
    "\n",
    "## Introduce things as the need arises\n",
    "\n",
    "You won't get very far in programming if you don't know what scalars are and how to define them. You will also frequently encouter errors because you did something like formatted a variable as a floating point decimal instead of an integer. The content is dry, but if you don't at least introduce the idea that not everything in Python is \"a number,\" some of the errors they encounter will be very cryptic to them.  Moreover, once they understand the purpose of different types of \"numbers,\" they will expand their skill set.\n",
    "\n",
    "## Scalars\n",
    "\n",
    "Think of these as variables that have a single value. Although your mind probably immediately jumps to a single number as an example of a scalar (which it is), scalars in Python are not necessarily numbers. In Python, there are many types (classes) of scalars that we will need to be familiar with:\n",
    "\t\n",
    "* **int** refers to an \"integer,\" which is a whole number. **Examples:** 1, 7, 452\n",
    "* **float** refers to a floating point decimal approximation of a number. Python defaults to 64-bit double-precision values  for floats. The maximum value any floating-point number in Python is about 1.8 x 10<sup>308</sup>. Anything larger than this will return as *inf*  **Examples:** 2.0, 6.75, 100.3\n",
    "* **complex** refers to a number that has an imaginary part. **Example:** 4.2 + 6i. Note that in Python, a \"j\" is used instead of an \"i\" for imaginary numbers.\n",
    "* **bool** A logical Boolean value. It is binary - either True or False. In most languages, including Python, True = 1, False = 0 or []. Python also recognizes explicit declarations of True and False\n",
    "* **str** A \"string\" of characters.  These are declared in Python using single, double, or triple quotes. For the purposes of this demonstration, they are interchangeable, but know that single, double, and triple quotes may have different applications when writing strings.  **Examples** 'Dog.', \"Cat.\", \"Doggo?\", '''Not a Doggo!''' are all strings. \n",
    "\n",
    "### Defining a scalar"
   ]
  },
  {
   "cell_type": "code",
   "execution_count": null,
   "metadata": {},
   "outputs": [],
   "source": [
    "A = 1        #An integer\n",
    "B = 7.0      #A floating point decimal\n",
    "C = 5.6 + 2j #A complex number, note \"j\"\n",
    "D = True     #A Boolean\n",
    "E = \"Obviously, you're not a golfer.\" #A string"
   ]
  },
  {
   "cell_type": "markdown",
   "metadata": {},
   "source": [
    "### Displaying the workspace variables"
   ]
  },
  {
   "cell_type": "code",
   "execution_count": null,
   "metadata": {},
   "outputs": [],
   "source": [
    "%whos"
   ]
  },
  {
   "cell_type": "markdown",
   "metadata": {},
   "source": [
    "### The `print()` function: displaying outputs"
   ]
  },
  {
   "cell_type": "code",
   "execution_count": null,
   "metadata": {},
   "outputs": [],
   "source": [
    "print(A) \n",
    "print(B)"
   ]
  },
  {
   "cell_type": "markdown",
   "metadata": {},
   "source": [
    "## Formatted String Literals\n",
    "\n",
    "In coursework, when displaying a result to screen, I make a habit of adding context with the print command. There are options for doing this (string interpolation, formatted string literals, etc.); my preference is to use formatted string literals as they are straightforward, though you need to be aware of the `printf` formatting codes from C; for example:\n",
    "\n",
    "1. f = floating point decimal format\n",
    "2. e = exponential notation with lower-case e\n",
    "3. E = exponential notation with upper-case E\n",
    "4. s = string format\n",
    "5. d = integer\n",
    "\n",
    "The number and its format are specified by enclosing in braces {} where the syntax corresponds to:\n",
    "\n",
    "{\"value to be printed\":\"minimum spaces in the display\".\"number of decimal places in display\"\"formatting code\"}\n",
    "\n",
    "For example:"
   ]
  },
  {
   "cell_type": "code",
   "execution_count": null,
   "metadata": {},
   "outputs": [],
   "source": [
    "print(f'The value of the integer A printed with a minimum of 5 spaces is {A:5d}')\n",
    "print(f'The value of the floating point decimal B printed with a minimum of 3 spaces to 2 decimal places is {B:3.2f}')"
   ]
  },
  {
   "cell_type": "markdown",
   "metadata": {},
   "source": [
    "## Asking for `help()`"
   ]
  },
  {
   "cell_type": "code",
   "execution_count": null,
   "metadata": {},
   "outputs": [],
   "source": [
    "# help('print')\n",
    "# ?print"
   ]
  },
  {
   "cell_type": "markdown",
   "metadata": {},
   "source": [
    "## Knowing the `type()` of a variable is important in Python"
   ]
  },
  {
   "cell_type": "code",
   "execution_count": null,
   "metadata": {},
   "outputs": [],
   "source": [
    "print(type(A))\n",
    "print(type(B))\n",
    "print(type(C))\n",
    "print(type(D))\n",
    "print(type(E))"
   ]
  },
  {
   "cell_type": "markdown",
   "metadata": {},
   "source": [
    "Alternatively, you can pass multiple arguments to `print()`, Which will display everything on a single line"
   ]
  },
  {
   "cell_type": "code",
   "execution_count": null,
   "metadata": {},
   "outputs": [],
   "source": [
    "print(type(A), type(B), type(C), type(D), type(E))"
   ]
  },
  {
   "cell_type": "markdown",
   "metadata": {},
   "source": [
    "## Basic Mathematical Operators in Python (and their interaction with scalar classes...)\n"
   ]
  },
  {
   "cell_type": "code",
   "execution_count": null,
   "metadata": {},
   "outputs": [],
   "source": [
    "print(A + 1) #int + int --> int\n",
    "print(A + B) #int + float --> float\n",
    "print(C - A) #complex - int --> complex\n",
    "print(A/B)   #Int/Float --> float\n",
    "print(A*C)   #int*complex --> float"
   ]
  },
  {
   "cell_type": "markdown",
   "metadata": {},
   "source": [
    "### Exponents in Python"
   ]
  },
  {
   "cell_type": "code",
   "execution_count": null,
   "metadata": {},
   "outputs": [],
   "source": [
    "print(B**2) #This gives you the square of B = 7, so 49.  B^2 is a  different operation; don't use it as an exponent"
   ]
  },
  {
   "cell_type": "markdown",
   "metadata": {},
   "source": [
    "### How are strings handled in mathematical operations?\n",
    "\n",
    "If you attempt to combine a string and a number in a math operations, it will either take you very literally (if your operation is a logical concatenation), or you'll get an error if it is not."
   ]
  },
  {
   "cell_type": "code",
   "execution_count": null,
   "metadata": {},
   "outputs": [],
   "source": [
    "# print(E + E)\n",
    "# print(3*E)\n",
    "# print(E+17)\n",
    "# print(3.75*E)"
   ]
  },
  {
   "cell_type": "markdown",
   "metadata": {},
   "source": [
    "## Strings: an introduction to indexing, slicing, and mutability"
   ]
  },
  {
   "cell_type": "code",
   "execution_count": null,
   "metadata": {},
   "outputs": [],
   "source": [
    "animal = 'dog'"
   ]
  },
  {
   "cell_type": "markdown",
   "metadata": {},
   "source": [
    "### Indexing\n",
    "\n",
    "Considering that Python indexing starts at 0, the indexing is as follows:"
   ]
  },
  {
   "cell_type": "code",
   "execution_count": null,
   "metadata": {},
   "outputs": [],
   "source": [
    "print(animal[0])\n",
    "print(animal[1])\n",
    "print(animal[2])"
   ]
  },
  {
   "cell_type": "markdown",
   "metadata": {},
   "source": [
    "### Immutability"
   ]
  },
  {
   "cell_type": "code",
   "execution_count": null,
   "metadata": {},
   "outputs": [],
   "source": [
    "# animal[0] = 'f'\n",
    "# weather   = 'fog'\n",
    "# print(weather)"
   ]
  },
  {
   "cell_type": "markdown",
   "metadata": {},
   "source": [
    "### The `len()` function"
   ]
  },
  {
   "cell_type": "code",
   "execution_count": null,
   "metadata": {},
   "outputs": [],
   "source": [
    "len(animal)"
   ]
  },
  {
   "cell_type": "markdown",
   "metadata": {},
   "source": [
    "### Slicing"
   ]
  },
  {
   "cell_type": "code",
   "execution_count": null,
   "metadata": {},
   "outputs": [],
   "source": [
    "animal[0:2]"
   ]
  },
  {
   "cell_type": "code",
   "execution_count": null,
   "metadata": {},
   "outputs": [],
   "source": [
    "animal[0:3]"
   ]
  },
  {
   "cell_type": "code",
   "execution_count": null,
   "metadata": {},
   "outputs": [],
   "source": [
    "animal[:2]"
   ]
  },
  {
   "cell_type": "code",
   "execution_count": null,
   "metadata": {},
   "outputs": [],
   "source": [
    "animal[0:]"
   ]
  },
  {
   "cell_type": "markdown",
   "metadata": {},
   "source": [
    "### Negative Indexing in Python"
   ]
  },
  {
   "cell_type": "code",
   "execution_count": null,
   "metadata": {},
   "outputs": [],
   "source": [
    "animal[-1] "
   ]
  },
  {
   "cell_type": "code",
   "execution_count": null,
   "metadata": {
    "scrolled": true
   },
   "outputs": [],
   "source": [
    "animal[-2]"
   ]
  },
  {
   "cell_type": "markdown",
   "metadata": {},
   "source": [
    "### Strings are the only scalar that is indexed"
   ]
  },
  {
   "cell_type": "code",
   "execution_count": null,
   "metadata": {},
   "outputs": [],
   "source": [
    "F = 12345\n",
    "print(F)\n",
    "# len(F)\n",
    "# F[0]"
   ]
  }
 ],
 "metadata": {
  "kernelspec": {
   "display_name": "Python 3 (ipykernel)",
   "language": "python",
   "name": "python3"
  },
  "language_info": {
   "codemirror_mode": {
    "name": "ipython",
    "version": 3
   },
   "file_extension": ".py",
   "mimetype": "text/x-python",
   "name": "python",
   "nbconvert_exporter": "python",
   "pygments_lexer": "ipython3",
   "version": "3.9.13"
  }
 },
 "nbformat": 4,
 "nbformat_minor": 4
}
