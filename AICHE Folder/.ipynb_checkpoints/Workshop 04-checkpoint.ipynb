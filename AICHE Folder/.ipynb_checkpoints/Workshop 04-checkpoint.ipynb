{
 "cells": [
  {
   "cell_type": "markdown",
   "metadata": {},
   "source": [
    "# Data Structures\n",
    "\n",
    "When I first picked up Python, I did so coming from Matlab.  Most of my attempts to use it started with a Google Search of \"how do I solve a system of equations in Python\" or \"How do I solve Initial Value Problems in Python.\"\n",
    "\n",
    "These types of questions are probably the reason most of us want to use a programming language.  Both of those questions will tend to push you toward two Python Packages in particular: `Numpy` and `Scipy`.  Both of them are pretty awesome -- these are the tools that will replicate most of the tools you're familiar with from probably Matlab.  It is tempting to try to restrict yourself to the Numpy environment because, in Numpy, things behave very similar to matrices, rows, etc. to those in Matlab.  However, Numpy and Scipy are subspaces within the considerably more general Python language.  If you work in Python more broadly, you are likely to encounter places where others aren't containing themselves strictly to Numpy-like operations, and they work more in the base Python environment, where matrices really don't exist.  Moreover, since Numpy and Scipy routines are still Python at heart, some of their syntax may require you to know a bit about the base Python environment. \n",
    "\n",
    "Initially, when I picked up Python, I was confused by the different types of Data structures, why so many existed, how they were different, and where each could be used. My confusion eased considerably after I learned how these different data structures behave, so I think it is worth teaching `lists`, `tuples`, and `dictionaries` in additon to the `numpy arrays` that most of us will probably generally want to use for math and engineering programs."
   ]
  },
  {
   "cell_type": "markdown",
   "metadata": {},
   "source": [
    "## Lists\n",
    "\n",
    "A list is an indexed, **mutable** set of \"items\" that are ordered, i.e., each entry has a unique index. The \"items\" in a list can include any type of scalar or any type of collection and there are really few restrictions on what can be stored in a list structure. Because lists are **mutable**, we can we can change their contents after they are created. \n",
    "\n",
    "### Creating a list - use brackets `[]`"
   ]
  },
  {
   "cell_type": "code",
   "execution_count": null,
   "metadata": {},
   "outputs": [],
   "source": [
    "G = [1, 2, 3] #A list of integers\n",
    "H = ['dog','cat','bat'] #A list of strings\n",
    "I = [[1.6, 2.7, 3.4], [4.4, 5.2, 6.8]] #A list of lists; each list is a list of floats.\n",
    "OH_WOW = [G, H, I] #Lists in python are neat because the elements don't have to be consistent type or size -- \"structure\" "
   ]
  },
  {
   "cell_type": "code",
   "execution_count": null,
   "metadata": {},
   "outputs": [],
   "source": [
    "print(G)\n",
    "print(H)\n",
    "print(I)\n",
    "print(OH_WOW)"
   ]
  },
  {
   "cell_type": "markdown",
   "metadata": {},
   "source": [
    "#### The List Constructor"
   ]
  },
  {
   "cell_type": "code",
   "execution_count": null,
   "metadata": {},
   "outputs": [],
   "source": [
    "J = list([1, 2, 3])  \n",
    "L = list(range(0, 11, 1)) #range(start, stop, stepsize)\n",
    "print(J, '\\n')\n",
    "print(type(J), '\\n')\n",
    "print(L, '\\n')\n",
    "print(type(L))"
   ]
  },
  {
   "cell_type": "markdown",
   "metadata": {},
   "source": [
    "### Lists are mutable"
   ]
  },
  {
   "cell_type": "code",
   "execution_count": null,
   "metadata": {},
   "outputs": [],
   "source": [
    "print(J)\n",
    "J[1] = 4\n",
    "print(J)"
   ]
  },
  {
   "cell_type": "markdown",
   "metadata": {},
   "source": [
    "### The many ways to manipulate Lists\n",
    "\n",
    "You can find a guide to these methods at the very awesome https://docs.python.org/3.10/tutorial/datastructures.html\n",
    "\n",
    "Here is just a basic example of the above `listname.methodname()` convention; we will use the append method to add the number 443 to the list called **J** that we previously modified. We will then sort J in ascending order.  We print the results of each manipulation. Enter the following commands to get a feel for how list methods work:\n",
    "\n",
    "<div class = \"alert alert-block alert-warning\">\n",
    "    <b>Mutability:</b> As you will see in the cell below, each of these methods will modify a list in place, i.e., they change the contents of a list without you specifically redefining the list. Be careful with them because lists are mutable!\n",
    "    </div>"
   ]
  },
  {
   "cell_type": "code",
   "execution_count": null,
   "metadata": {},
   "outputs": [],
   "source": [
    "print(J)\n",
    "J.append(443)\n",
    "print(J)\n",
    "J.sort()\n",
    "print(J)"
   ]
  },
  {
   "cell_type": "markdown",
   "metadata": {},
   "source": [
    "### Dimensionality and shape of lists\n",
    "\n",
    "Now lets take a closer look at indexing in lists.  ***Lists are not matrices***. "
   ]
  },
  {
   "cell_type": "code",
   "execution_count": null,
   "metadata": {},
   "outputs": [],
   "source": [
    "print(I)\n",
    "print(len(I))"
   ]
  },
  {
   "cell_type": "markdown",
   "metadata": {},
   "source": [
    "### List Indexing\n",
    "\n",
    "Let's say I want to extract the number 3.4 out of this list.  I would do so by referencing its index:  It is the 3rd element inside of the first list; therefore, I would call its value by typing:"
   ]
  },
  {
   "cell_type": "code",
   "execution_count": null,
   "metadata": {},
   "outputs": [],
   "source": [
    "print(I[0][2]) #Indexing the 3rd element in the first list (index 0 --> index 2)\n",
    "# print(I[0, 2]) #(row, column) Matrix-like indexing is not supported with lists"
   ]
  },
  {
   "cell_type": "markdown",
   "metadata": {},
   "source": [
    "### Slicing a List"
   ]
  },
  {
   "cell_type": "code",
   "execution_count": null,
   "metadata": {},
   "outputs": [],
   "source": [
    "print(I)\n",
    "print(I[0][:])   #All elements in first list in I\n",
    "print(I[0][0:2]) #Index 0 and 1 in the first list in I, excludes last index\n",
    "print(I[0][1:])  #Index 1 to end of first list in the first list in I\n",
    "print(I[-1][:])  #All elements in last list in I"
   ]
  },
  {
   "cell_type": "markdown",
   "metadata": {},
   "source": [
    "## Tuples\n",
    "\n",
    "A tuple is an immutabel set of \"items\" that are ordered and arranged by index. Lack of mutability means that, like a string, we **cannot** change the contents of a tuple once it is defined. If you need to replace an element in that tuple, you have to redefine the tuple.\n",
    "\n",
    "### Creating a Tuple\n"
   ]
  },
  {
   "cell_type": "code",
   "execution_count": null,
   "metadata": {},
   "outputs": [],
   "source": [
    "A = (1.0, 2.0, 3.0, 4.0)                 #creates a tuple called A that contains four integers,\n",
    "B = ('apples', 'oranges', 'bananas')     #creates a tuple called B that contains 3 different strings,\n",
    "C = tuple(range(3, 22, 3))               #creates a tuple that is comprised of the numbers from 3 to 21 in increments of 3, \n",
    "D = (('one', 'two', 'three'), [4, 5, 6]) #creates a tuple that is comprised of two tuples\n",
    "E = (A, B, C, D)                         #creates a tuple that includes four other tuples: A, B, C, and D. "
   ]
  },
  {
   "cell_type": "code",
   "execution_count": null,
   "metadata": {},
   "outputs": [],
   "source": [
    "print(A)\n",
    "print(B)\n",
    "print(C)\n",
    "print(D)\n",
    "print(E)"
   ]
  },
  {
   "cell_type": "markdown",
   "metadata": {},
   "source": [
    "### Indexing with tuples"
   ]
  },
  {
   "cell_type": "code",
   "execution_count": null,
   "metadata": {},
   "outputs": [],
   "source": [
    "print(B[0]) #First element of B"
   ]
  },
  {
   "cell_type": "code",
   "execution_count": null,
   "metadata": {},
   "outputs": [],
   "source": [
    "All_Her_Favorite_Fruit = (B[0],B[2]) #Create a new tuple from elements of B\n",
    "print(All_Her_Favorite_Fruit)"
   ]
  },
  {
   "cell_type": "markdown",
   "metadata": {},
   "source": [
    "### The immutability of tuples\n",
    "\n",
    "\n",
    "A very important property of tuples is that they are **immutable**, so if I see that I mistakenly included bananas instead of kiwis in my list, I cannot redefine it as:\n",
    "\n",
    "```python\n",
    "\n",
    "```\n",
    "\n",
    "which will produce an error.  Instead, I would have to define a new tuple:"
   ]
  },
  {
   "cell_type": "code",
   "execution_count": null,
   "metadata": {},
   "outputs": [],
   "source": [
    "print(B)\n",
    "# B[2] = 'kiwis'\n",
    "oops = ('apples', 'oranges', 'kiwis')\n",
    "print(oops)"
   ]
  },
  {
   "cell_type": "markdown",
   "metadata": {},
   "source": [
    "## Dictionaries\n",
    "\n",
    "Dictionaries are arranged as a set of *key:value* pairs (just like a real dictionary has a word:definition pair). You store key:value pairs when you create a dictionary, and when you need to recall a specific value, you do so by passing the key associated with that value into the dictionary name."
   ]
  },
  {
   "cell_type": "markdown",
   "metadata": {},
   "source": [
    "### Creating a Dictionary using `{}`"
   ]
  },
  {
   "cell_type": "code",
   "execution_count": null,
   "metadata": {},
   "outputs": [],
   "source": [
    "GD_77 = {'lead_guitar': 'Jerry', 'rhythm_guitar': 'Bobby', 'bass': 'Phil', 'keys': 'Keith', 'drums': 'Kreutzmann', 'other_drums': 'Mickey', 'vox': 'Donna'}\n",
    "print(GD_77)"
   ]
  },
  {
   "cell_type": "markdown",
   "metadata": {},
   "source": [
    "### Creating a Dictionary using `dict([(), (), ...])`"
   ]
  },
  {
   "cell_type": "code",
   "execution_count": null,
   "metadata": {},
   "outputs": [],
   "source": [
    "GD_1977 = dict([('lead_guitar', 'Jerry'), ('rhythm_guitar', 'Bobby'), ('bass', 'Phil'), ('keys', 'Keith'), ('drums', 'Kreutzmann'), ('other_drums', 'Mickey'), ('vox', 'Donna')])\n",
    "print(GD_1977)"
   ]
  },
  {
   "cell_type": "markdown",
   "metadata": {},
   "source": [
    "### Indexing in Dictionaries"
   ]
  },
  {
   "cell_type": "code",
   "execution_count": null,
   "metadata": {},
   "outputs": [],
   "source": [
    "GD_77['bass']"
   ]
  },
  {
   "cell_type": "markdown",
   "metadata": {},
   "source": [
    "### Dictionaries are mutable"
   ]
  },
  {
   "cell_type": "code",
   "execution_count": null,
   "metadata": {},
   "outputs": [],
   "source": [
    "GD_77['lyrics'] = 'Hunter'\n",
    "print(GD_77)"
   ]
  },
  {
   "cell_type": "code",
   "execution_count": null,
   "metadata": {},
   "outputs": [],
   "source": [
    "GD_77['bass'] = 'Oteil'\n",
    "print(GD_77)"
   ]
  },
  {
   "cell_type": "markdown",
   "metadata": {},
   "source": [
    "## NDArrays/Numpy Arrays\n",
    "\n",
    "NDarrays are **mutable**, ordered collections in which each element has a specific index. They can include any type of scalar or collection, so they are superficially similar to lists, but they have some important differences. One of the major ones, in simple terms is that you can *generally* perform mathematical operations directly on an array, whereas you cannot *generally* perform mathematical operations directly on a list. If you are familiar with Matlab, the \"array\" class in Python behaves similarly to the vectors and matrices that you're used to working with in Matlab (whereas lists, tuples, and dictionaries do not). To me, coming from a Matlab background, working with lists *feels* awkward, but working with arrays feels familiar. We probably can get away with mostly working with arrays in engineering courses; however, there are going to be certain cases where we need to deal with a lists, tuples, or dictionaries, so it is important to know how they differ.\n",
    "\n",
    "In Python, the most robust array support is provided by the **numpy** package, so this is a good place to introduce an aspect of Python that differs from something like Matlab. In a commercial math software package like Matlab, more often than not, we mostly use features that are built into the language and accessible by default in the base of that language. In contrast, we frequently will need to add functionality to Python that is missing from the base. We do this by adding packages. \n",
    "\n",
    "<div class = \"alert alert-block alert-info\">\n",
    "    <b>Note:</b>You should be aware that Anaconda and Colab install most of the packages we'll need by default, we just need to add them to a particular session using the import command. If you find yourself using a standalone Python installation, or if you need packages outside of what would be included in Anaconda, you may need to install packages manually using either **pip** or **conda** package managers. \n",
    "    </div>\n",
    "    \n",
    "We will use it now to import the numpy package, which includes very nice array support. To me, numpy *feels* like importing a matlab-like environment into Python. It basically enables matrix support and linear algebra, so it provides an environment that is similar to Matlab, and it includes a lot of commands and modules that you may already be familiar with. Module 03 provides a detailed look at numpy arrays, but we introduce their construction here alongside other common types of data structures that we'll need to use in Python\n",
    "\n",
    "### Importing Numpy\n",
    "\n",
    "At its most basic, we import a package (numpy in this case) as follows:"
   ]
  },
  {
   "cell_type": "code",
   "execution_count": null,
   "metadata": {},
   "outputs": [],
   "source": [
    "import numpy"
   ]
  },
  {
   "cell_type": "markdown",
   "metadata": {},
   "source": [
    "### Creating a Numpy array (ndarray) using `np.array([])`\n",
    "\n",
    "Now that I've imported numpy, I can use it to create an array, I can do so with the `array()` constructor in numpy--this constructor takes either a list [] or a tuple () as its argument. You'll note similarities with the `list()` and `tuple()` constructors introduced earlier."
   ]
  },
  {
   "cell_type": "code",
   "execution_count": null,
   "metadata": {},
   "outputs": [],
   "source": [
    "K = numpy.array([0, 10, 20])\n",
    "# K = numpy.array((0, 10, 20)) #The two are equivalent in their output"
   ]
  },
  {
   "cell_type": "code",
   "execution_count": null,
   "metadata": {},
   "outputs": [],
   "source": [
    "print(K)\n",
    "print(type(K))\n",
    "print(len(K))"
   ]
  },
  {
   "cell_type": "markdown",
   "metadata": {},
   "source": [
    "### Aliasing your imports"
   ]
  },
  {
   "cell_type": "code",
   "execution_count": null,
   "metadata": {},
   "outputs": [],
   "source": [
    "import numpy as np"
   ]
  },
  {
   "cell_type": "code",
   "execution_count": null,
   "metadata": {},
   "outputs": [],
   "source": [
    "M = np.array([1, 2, 3, 4])\n",
    "print(M)"
   ]
  },
  {
   "cell_type": "markdown",
   "metadata": {},
   "source": [
    "### Importing only selected  features or functions from a package\n"
   ]
  },
  {
   "cell_type": "code",
   "execution_count": null,
   "metadata": {},
   "outputs": [],
   "source": [
    "from numpy import array"
   ]
  },
  {
   "cell_type": "code",
   "execution_count": null,
   "metadata": {},
   "outputs": [],
   "source": [
    "N = array([1, 2, 3, 4])\n",
    "print(N)"
   ]
  },
  {
   "cell_type": "markdown",
   "metadata": {},
   "source": [
    "### Indexing in arrays\n",
    "\n",
    "Generally, np.arrays index support all list indexing conventions.  They also support the \"(row, column)\" indexing you might be used to with matrices; we'll cover this with 2D arrays later."
   ]
  },
  {
   "cell_type": "code",
   "execution_count": null,
   "metadata": {},
   "outputs": [],
   "source": [
    "N[3]"
   ]
  },
  {
   "cell_type": "markdown",
   "metadata": {},
   "source": [
    "### Mutability of arrays"
   ]
  },
  {
   "cell_type": "code",
   "execution_count": null,
   "metadata": {},
   "outputs": [],
   "source": [
    "print(N)\n",
    "N[3] = 10\n",
    "print(N)"
   ]
  },
  {
   "cell_type": "markdown",
   "metadata": {},
   "source": [
    "### Built in functions that manipulate and mutate arrays \n",
    "\n",
    "There are many modules that allow manipulation of an array (an overwhelming amount).  My suggestion: look them up when you need them.\n",
    "\n",
    "https://numpy.org/doc/stable/reference/routines.array-manipulation.html"
   ]
  },
  {
   "cell_type": "code",
   "execution_count": null,
   "metadata": {},
   "outputs": [],
   "source": [
    "print(N)\n",
    "N = numpy.append(N, 25)\n",
    "print(N)"
   ]
  },
  {
   "cell_type": "markdown",
   "metadata": {},
   "source": [
    "## A significant difference between a list and a numpy array"
   ]
  },
  {
   "cell_type": "code",
   "execution_count": null,
   "metadata": {},
   "outputs": [],
   "source": [
    "O = [1, 2, 3, 4, 5]\n",
    "P = np.array([1, 2, 3, 4, 5])\n",
    "print(O, '', len(O))\n",
    "print(P, '', len(P))"
   ]
  },
  {
   "cell_type": "code",
   "execution_count": null,
   "metadata": {},
   "outputs": [],
   "source": [
    "print(O + 5)   #error\n",
    "# print(O - 5)   #error\n",
    "# print(O + O)   #concatenate\n",
    "# print(O + [5]) #concatenate\n",
    "# print(3*O)     #concatenate\n",
    "# print(O**2)    #error\n",
    "# print(P + 5)\n",
    "# print(P - 5)\n",
    "# print(P + P)\n",
    "# print(2*P)\n",
    "# print(P**2)"
   ]
  }
 ],
 "metadata": {
  "kernelspec": {
   "display_name": "Python 3 (ipykernel)",
   "language": "python",
   "name": "python3"
  },
  "language_info": {
   "codemirror_mode": {
    "name": "ipython",
    "version": 3
   },
   "file_extension": ".py",
   "mimetype": "text/x-python",
   "name": "python",
   "nbconvert_exporter": "python",
   "pygments_lexer": "ipython3",
   "version": "3.9.13"
  }
 },
 "nbformat": 4,
 "nbformat_minor": 4
}
