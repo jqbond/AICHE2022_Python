{
 "cells": [
  {
   "cell_type": "markdown",
   "metadata": {},
   "source": [
    "# Quadrature \n",
    "\n",
    "You may frequently find yourself in a situation where you need to do one of two things:\n",
    "\n",
    "1. Solve a definite integral for which the analytical solution is either impossible or sufficiently tedious, difficult, and error prone that it may as well be impossible. This is a good application for numerical integration using something like gaussian quadrature.\n",
    "2. Integrate discrete data points; this is typically done using quadrature methods like the trapezoidal rule or Simpson's rule.\n",
    "\n",
    "These are built into most programming languages, and we should at least know how to use them when we need them. \n",
    "\n",
    "## Gaussian Quadrature\n",
    "\n",
    "Let's say we want to solve the following definite integral:\n",
    "\n",
    "$$A = \\int_0^{10} x^2 dx$$\n",
    "\n",
    "Analytically, we know that the solution is:\n",
    "\n",
    "$$\\frac{x^3}{3} \\bigg|_0^{10} = \\frac{10^3}{3} - \\frac{0^3}{3} = 333.33$$\n",
    "\n",
    "We can also integrate this using gaussian quadrature:\n",
    "\n",
    "https://en.wikipedia.org/wiki/Gaussian_quadrature\n",
    "\n",
    "In Python, easy gaussian quadrature is available in Scipy, specifically, `scipy.integrate.quadrature`. Read more about it here:\n",
    "\n",
    "https://docs.scipy.org/doc/scipy/reference/generated/scipy.integrate.quadrature.html"
   ]
  },
  {
   "cell_type": "code",
   "execution_count": null,
   "metadata": {},
   "outputs": [],
   "source": [
    "from scipy import integrate\n",
    "import matplotlib.pyplot as plt\n",
    "import numpy as np"
   ]
  },
  {
   "cell_type": "code",
   "execution_count": null,
   "metadata": {},
   "outputs": [],
   "source": [
    "def integrand(x):\n",
    "    return x**2"
   ]
  },
  {
   "cell_type": "code",
   "execution_count": null,
   "metadata": {},
   "outputs": [],
   "source": [
    "int_val, err_val = integrate.quadrature(integrand, 0, 10)\n",
    "print(int_val, err_val)"
   ]
  },
  {
   "cell_type": "markdown",
   "metadata": {},
   "source": [
    "## Integrating discrete data: Trapezoidal and Simpson's\n",
    "\n",
    "Simpson's rule and the trapezoidal rule work for discrete sets of data that we need to integrate.  So, for example, if I just calculated some discrete values of $y = x^2$ on the domain $x = [0,10]$:"
   ]
  },
  {
   "cell_type": "code",
   "execution_count": null,
   "metadata": {},
   "outputs": [],
   "source": [
    "x = np.linspace(0, 10, 15)\n",
    "y = x**2    \n",
    "\n",
    "plt.figure(1, figsize = (5, 5))\n",
    "plt.scatter(x, y, marker = 'o', color = 'none', edgecolor = 'black')\n",
    "plt.xlim(0, 12)\n",
    "plt.ylim(0, 120)\n",
    "plt.xlabel('X')\n",
    "plt.ylabel('Y')\n",
    "plt.show()"
   ]
  },
  {
   "cell_type": "markdown",
   "metadata": {},
   "source": [
    "So let's pretend we don't know that data was generated using the function $y = x^2$, and we just wanted to integrate it based on the discrete values of x and y that we have in our data set.  We would use either the trapezoidal rule or Simpson's rule.  Simpson's and Trapezoidal rules are both available in Python through the Scipy package.\n",
    "\n",
    "https://docs.scipy.org/doc/scipy/reference/generated/scipy.integrate.trapezoid.html\n",
    "\n",
    "https://docs.scipy.org/doc/scipy/reference/generated/scipy.integrate.simpson.html"
   ]
  },
  {
   "cell_type": "markdown",
   "metadata": {},
   "source": [
    "### Trapezoidal Rule"
   ]
  },
  {
   "cell_type": "code",
   "execution_count": null,
   "metadata": {},
   "outputs": [],
   "source": [
    "integrate.trapezoid(y, x)"
   ]
  },
  {
   "cell_type": "markdown",
   "metadata": {},
   "source": [
    "### Simpson's Rule\n",
    "\n",
    "Alternatively, the analogous integration using Simpson's rule:"
   ]
  },
  {
   "cell_type": "code",
   "execution_count": null,
   "metadata": {},
   "outputs": [],
   "source": [
    "integrate.simpson(y, x) "
   ]
  },
  {
   "cell_type": "markdown",
   "metadata": {},
   "source": [
    "### Cumulative integration with the trapezoidal rule\n",
    "\n",
    "Finally, we commonly need to know the cumulative value of the integral at each value of the independent variable. \n",
    "\n",
    "https://docs.scipy.org/doc/scipy/reference/generated/scipy.integrate.cumulative_trapezoid.html"
   ]
  },
  {
   "cell_type": "code",
   "execution_count": null,
   "metadata": {},
   "outputs": [],
   "source": [
    "ctrapz = integrate.cumulative_trapezoid(y, x)\n",
    "\n",
    "plt.figure(1, figsize = (5, 5))\n",
    "plt.plot(x[1:], ctrapz, color = 'black')\n",
    "plt.xlim(0, 10)\n",
    "plt.ylim(0, 350)\n",
    "plt.xlabel('X')\n",
    "plt.ylabel('Area Under y(x)')\n",
    "plt.show()"
   ]
  }
 ],
 "metadata": {
  "kernelspec": {
   "display_name": "Python 3 (ipykernel)",
   "language": "python",
   "name": "python3"
  },
  "language_info": {
   "codemirror_mode": {
    "name": "ipython",
    "version": 3
   },
   "file_extension": ".py",
   "mimetype": "text/x-python",
   "name": "python",
   "nbconvert_exporter": "python",
   "pygments_lexer": "ipython3",
   "version": "3.9.13"
  }
 },
 "nbformat": 4,
 "nbformat_minor": 4
}
