{
 "cells": [
  {
   "cell_type": "markdown",
   "metadata": {},
   "source": [
    "# Arrays and Matrices\n",
    "\n",
    "The following exercises cover the basics of how you will create and work with \"matrices\" in Python.  Here, we will actually be working with ndarrays (numpy arrays).  For our purposes, we can generally treat them as matrices.\n",
    "\n",
    "## Numpy"
   ]
  },
  {
   "cell_type": "code",
   "execution_count": 1,
   "metadata": {},
   "outputs": [],
   "source": [
    "import numpy as np"
   ]
  },
  {
   "cell_type": "markdown",
   "metadata": {},
   "source": [
    "## Dimensions of numpy arrays\n",
    "\n",
    "\"Row\" and \"Column\" vectors are a little different in Python (`numpy`). It is important to understand that rows ($1 \\times n$) and columns ($m \\times 1$) have 2 dimensions. A Row has 1 row and n columns, and a column has m rows and 1 column. Usually, we don't *actually* need a structure that has the true 2D shape of a row or a column. Unless we are doing something particular with a linear algebra operation, we probably aren't overly concerned about whether things are rows are columns, so we can typically get away with creating a 1 dimensional array. It is important to understand that, with a 1D array, there is only a length associated with it; it does not have a second dimension, so it is neither a row nor a column.  It is a 1 dimensional array--when I last worked in Matlab, there was no such thing as a 1D array, so this dimensionality was new to me in Python and thus confusing. \n",
    "\n",
    "<div class = \"alert alert-block alert-info\">\n",
    "    <b>Be Aware</b>: If you do a linear algebra operation that requires a row or a column, Python will often try do decide whether your 1D array should be treated as a row or a column.  Just be aware of that...\n",
    "    </div>"
   ]
  },
  {
   "cell_type": "code",
   "execution_count": 2,
   "metadata": {},
   "outputs": [
    {
     "name": "stdout",
     "output_type": "stream",
     "text": [
      "[1 2 3 4]\n"
     ]
    }
   ],
   "source": [
    "A = np.array([1, 2, 3, 4])\n",
    "print(A)"
   ]
  },
  {
   "cell_type": "markdown",
   "metadata": {},
   "source": [
    "## Attributes of numpy arrays\n",
    "\n",
    "`array_name.attribute_name`"
   ]
  },
  {
   "cell_type": "code",
   "execution_count": 3,
   "metadata": {},
   "outputs": [
    {
     "name": "stdout",
     "output_type": "stream",
     "text": [
      "4 \n",
      "\n",
      "1 \n",
      "\n",
      "(4,)\n"
     ]
    }
   ],
   "source": [
    "print(A.size, '\\n') #Returns the \"size\" of the array, i.e., the number of elements in it\n",
    "print(A.ndim, '\\n') #Returns the number of dimensions; should be 1 here\n",
    "print(A.shape) #Returns a tuple of dimensions of (4, ) (elements in 1st dimension (rows), elements in 2nd (columns), etc)"
   ]
  },
  {
   "cell_type": "markdown",
   "metadata": {},
   "source": [
    "## Creating a 2D numpy array: rows and columns\n",
    "\n",
    "Usually a 1D array will suffice in instances where we need to collect an array of scalars without a specific 2D shape to their layout or organization (where we might have used a row [1, 2, 3, 4] or a column [1; 2; 3; 4] in Matlab). If we ever need to create either a row or a column in Python, we have to remember that each of these things has a two dimensional shape associated with it.  2D arrays are created by passing a \"list-of-lists\" architecture into the array constructor.  The general idea is that each \"row\" in a 2D array is passed as a separate list into a top-level list."
   ]
  },
  {
   "cell_type": "code",
   "execution_count": 4,
   "metadata": {},
   "outputs": [
    {
     "name": "stdout",
     "output_type": "stream",
     "text": [
      "[[1 2 3 4]] \n",
      "\n",
      "(1, 4) \n",
      "\n",
      "[[1]\n",
      " [2]\n",
      " [3]\n",
      " [4]] \n",
      "\n",
      "(4, 1)\n"
     ]
    }
   ],
   "source": [
    "row = np.array([[1, 2, 3, 4]])       #this is a row shape = (1,4)\n",
    "col = np.array([[1], [2], [3], [4]]) #this is a column with shape (4,1) \n",
    "print(row, '\\n')\n",
    "print(row.shape, '\\n')\n",
    "print(col, '\\n')\n",
    "print(col.shape)"
   ]
  },
  {
   "cell_type": "markdown",
   "metadata": {},
   "source": [
    "## Matrices in Python\n",
    "\n",
    "Now that we know how to create a 2D array, it is pretty straightforward to create a matrix.  We basically do this by stacking rows together with a list-of-lists layout. Note again the bracket inside of brackets for a 2D system `np.array([[]])` -- when creating a matrix in the array environment, each row of the matrix should be passed to the array constructor as a comma separated list:"
   ]
  },
  {
   "cell_type": "code",
   "execution_count": 5,
   "metadata": {},
   "outputs": [
    {
     "name": "stdout",
     "output_type": "stream",
     "text": [
      "[[1 2]\n",
      " [3 4]\n",
      " [5 6]] \n",
      "\n",
      "6 \n",
      "\n",
      "(3, 2) \n",
      "\n",
      "2\n"
     ]
    }
   ],
   "source": [
    "mat1 = np.array([[1, 2], [3, 4], [5, 6]])\n",
    "print(mat1, '\\n')\n",
    "print(mat1.size, '\\n')\n",
    "print(mat1.shape, '\\n')\n",
    "print(mat1.ndim)"
   ]
  },
  {
   "cell_type": "markdown",
   "metadata": {},
   "source": [
    "## hstack and vstack\n",
    "\n",
    "Sometimes we need to stack rows or columns to create a matrix; we can do this with `np.vstack()` (stack rows) and `np.hstack()` (stack columns)."
   ]
  },
  {
   "cell_type": "code",
   "execution_count": 7,
   "metadata": {},
   "outputs": [
    {
     "name": "stdout",
     "output_type": "stream",
     "text": [
      "[[1 1]\n",
      " [2 2]\n",
      " [3 3]\n",
      " [4 4]] \n",
      "\n",
      "(4, 2)\n"
     ]
    }
   ],
   "source": [
    "mat2 = np.vstack([row, row])\n",
    "mat3 = np.hstack([col, col])\n",
    "# print(mat2, '\\n')\n",
    "# print(mat2.shape, '\\n')\n",
    "print(mat3, '\\n')\n",
    "print(mat3.shape)"
   ]
  },
  {
   "cell_type": "markdown",
   "metadata": {},
   "source": [
    "## Matrix operations and Linear Algebra\n",
    "\n",
    "I always struggle some in teaching Python because I am never actually teaching linear algebra, so I never want to go into a lot of detail about matrix/vector/row operations; however, my typical courses are in reactor design and kinetics, which benefit from knowing and using linear algebra. \n",
    "\n",
    "### Transpose of a column"
   ]
  },
  {
   "cell_type": "code",
   "execution_count": 10,
   "metadata": {},
   "outputs": [
    {
     "name": "stdout",
     "output_type": "stream",
     "text": [
      "[[1]\n",
      " [2]\n",
      " [3]\n",
      " [4]] \n",
      "\n",
      "[[1 2 3 4]] \n",
      "\n",
      "[[1 2 3 4]]\n"
     ]
    }
   ],
   "source": [
    "print(col, '\\n')\n",
    "print(np.transpose(col), '\\n')\n",
    "print(col.T)"
   ]
  },
  {
   "cell_type": "markdown",
   "metadata": {},
   "source": [
    "### Transpose a Matrix"
   ]
  },
  {
   "cell_type": "code",
   "execution_count": 12,
   "metadata": {},
   "outputs": [
    {
     "name": "stdout",
     "output_type": "stream",
     "text": [
      "[[1 2]\n",
      " [3 4]\n",
      " [5 6]] \n",
      "\n",
      "[[1 3 5]\n",
      " [2 4 6]] \n",
      "\n",
      "[[1 3 5]\n",
      " [2 4 6]]\n"
     ]
    }
   ],
   "source": [
    "print(mat1, '\\n')\n",
    "print(mat1.T, '\\n')\n",
    "print(np.transpose(mat1))"
   ]
  },
  {
   "cell_type": "markdown",
   "metadata": {},
   "source": [
    "### Transposes work on 2D structures..."
   ]
  },
  {
   "cell_type": "code",
   "execution_count": 13,
   "metadata": {},
   "outputs": [
    {
     "name": "stdout",
     "output_type": "stream",
     "text": [
      "[1 2 3 4]\n",
      "[1 2 3 4]\n"
     ]
    }
   ],
   "source": [
    "print(A)\n",
    "print(A.T)"
   ]
  },
  {
   "cell_type": "markdown",
   "metadata": {},
   "source": [
    "### Determinants and Matrix Inversion"
   ]
  },
  {
   "cell_type": "code",
   "execution_count": 17,
   "metadata": {},
   "outputs": [
    {
     "name": "stdout",
     "output_type": "stream",
     "text": [
      "[[ 1  2  3]\n",
      " [ 9 10 16]\n",
      " [ 7 28  3]] \n",
      "\n",
      "298.00000000000006 \n",
      "\n",
      "[[-1.40268456  0.26174497  0.00671141]\n",
      " [ 0.2852349  -0.06040268  0.03691275]\n",
      " [ 0.61073826 -0.04697987 -0.02684564]] \n",
      "\n"
     ]
    }
   ],
   "source": [
    "square_mat = np.array([[1, 2, 3], [9, 10, 16], [7, 28, 3]]) #create a square matrix\n",
    "print(square_mat, '\\n')\n",
    "print(np.linalg.det(square_mat), '\\n') #determinant; is it nonzero? Then we can invert.\n",
    "print(np.linalg.inv(square_mat), '\\n') #invert matrix "
   ]
  },
  {
   "cell_type": "markdown",
   "metadata": {},
   "source": [
    "## Indexing in 2DArrays\n",
    "\n",
    "When you work with arrays as your primary data type, you will frequently need to access or reference specific elements in those arrays. You do so by specifying their index in (row,column) format; you can also use list indexing conventions with a numpy array.  "
   ]
  },
  {
   "cell_type": "code",
   "execution_count": 20,
   "metadata": {
    "scrolled": true
   },
   "outputs": [
    {
     "data": {
      "text/plain": [
       "1"
      ]
     },
     "execution_count": 20,
     "metadata": {},
     "output_type": "execute_result"
    }
   ],
   "source": [
    "mat1[0, 0] #3rd row, 2nd column in mat1\n",
    "# mat1[2][1] #np.arrays retain list indexing..."
   ]
  },
  {
   "cell_type": "markdown",
   "metadata": {},
   "source": [
    "### Negative Indexing in Arrays\n"
   ]
  },
  {
   "cell_type": "code",
   "execution_count": 21,
   "metadata": {},
   "outputs": [
    {
     "name": "stdout",
     "output_type": "stream",
     "text": [
      "4\n",
      "4\n",
      "4\n",
      "3\n",
      "6\n",
      "4\n",
      "[3 3]\n"
     ]
    }
   ],
   "source": [
    "print(A[-1])          #final element in 1D array\n",
    "print(col[-1, 0])     #final row in a column vector\n",
    "print(row[0, -1])     #final columin in a row vector\n",
    "print(mat3[2,-1])     #third row in the final column of a matrix\n",
    "print(mat1[-1,1])     #second column in the final row of a matrix\n",
    "print(mat2[-1, -1])   #final column in final row of a matrix\n",
    "print(mat2[:, -2])    #All rows in second to last column of matrix"
   ]
  },
  {
   "cell_type": "markdown",
   "metadata": {},
   "source": [
    "### Slicing in arrays\n",
    "\n",
    "This works very similar to the way it does with lists."
   ]
  },
  {
   "cell_type": "code",
   "execution_count": 24,
   "metadata": {},
   "outputs": [
    {
     "data": {
      "text/plain": [
       "array([10, 11, 12, 13, 14])"
      ]
     },
     "execution_count": 24,
     "metadata": {},
     "output_type": "execute_result"
    }
   ],
   "source": [
    "numbers = np.array([5, 6, 7, 8, 9, 10, 11, 12, 13, 14])\n",
    "numbers[0:4] #First four elements (indices 0, 1, 2, 3). Remember, Python excludes the final index in this notation\n",
    "numbers[5:] #Indices 9 to end; With this notation, we return the last element"
   ]
  },
  {
   "cell_type": "markdown",
   "metadata": {},
   "source": [
    "## Automated array generation\n",
    "\n",
    "### Using Iterables"
   ]
  },
  {
   "cell_type": "code",
   "execution_count": 25,
   "metadata": {},
   "outputs": [
    {
     "name": "stdout",
     "output_type": "stream",
     "text": [
      "[ 0  2  4  6  8 10 12 14 16 18 20 22 24]\n",
      "(13,)\n",
      "1\n"
     ]
    }
   ],
   "source": [
    "numbers = np.array(range(0, 25, 2)) #range(start, stop, step size); all int format\n",
    "print(numbers)\n",
    "print(numbers.shape)\n",
    "print(numbers.ndim)"
   ]
  },
  {
   "cell_type": "markdown",
   "metadata": {},
   "source": [
    "\n",
    "### `np.linspace()`\n",
    "\n",
    "`np.linspace(lower, upper, number of elements)`"
   ]
  },
  {
   "cell_type": "code",
   "execution_count": 31,
   "metadata": {},
   "outputs": [
    {
     "name": "stdout",
     "output_type": "stream",
     "text": [
      "[ 0.          4.54545455  9.09090909 13.63636364 18.18181818 22.72727273\n",
      " 27.27272727 31.81818182 36.36363636 40.90909091 45.45454545 50.        ] \n",
      "\n",
      "(12,) \n",
      "\n",
      "1\n"
     ]
    }
   ],
   "source": [
    "fives = np.linspace(0, 50, 12, dtype = 'float') #np.linspace(lower element, upper element, number of steps).\n",
    "print(fives, '\\n')\n",
    "print(fives.shape, '\\n')\n",
    "print(fives.ndim)"
   ]
  },
  {
   "cell_type": "markdown",
   "metadata": {},
   "source": [
    "### `np.logspace()`\n",
    "\n",
    "For example, to create a set of 11 numbers spaced at $10^{-5}$, $10^4$, etc., up to $10^5$:"
   ]
  },
  {
   "cell_type": "code",
   "execution_count": 27,
   "metadata": {},
   "outputs": [
    {
     "name": "stdout",
     "output_type": "stream",
     "text": [
      "[1.e-05 1.e-04 1.e-03 1.e-02 1.e-01 1.e+00 1.e+01 1.e+02 1.e+03 1.e+04\n",
      " 1.e+05] \n",
      "\n"
     ]
    }
   ],
   "source": [
    "logset = np.logspace(-5, 5, 11) #np.logspace(lower power of base, upper power of base, number of elements)\n",
    "print(logset, '\\n')\n",
    "\n",
    "lnset = np.logspace(-5, 5, 11, base = np.exp(1))\n",
    "print(lnset)"
   ]
  },
  {
   "cell_type": "markdown",
   "metadata": {},
   "source": [
    "### `np.zeros()`\n",
    "\n",
    "Often, we want to define matrices or vectors that contain zero.  These are easy to generate in Python (`numpy.zeros(shape)`), where shape is either an integer (for a 1D array) or a tuple for an ND array\n"
   ]
  },
  {
   "cell_type": "code",
   "execution_count": 36,
   "metadata": {},
   "outputs": [
    {
     "data": {
      "text/plain": [
       "array([[[0., 0., 0.],\n",
       "        [0., 0., 0.],\n",
       "        [0., 0., 0.]],\n",
       "\n",
       "       [[0., 0., 0.],\n",
       "        [0., 0., 0.],\n",
       "        [0., 0., 0.]],\n",
       "\n",
       "       [[0., 0., 0.],\n",
       "        [0., 0., 0.],\n",
       "        [0., 0., 0.]]])"
      ]
     },
     "execution_count": 36,
     "metadata": {},
     "output_type": "execute_result"
    }
   ],
   "source": [
    "np.zeros(3)       #1D array with 3 zeros\n",
    "np.zeros((1,3))   #2D array (1x3 row) with 3 zeros\n",
    "np.zeros((3,1))   #2D array (3x1 column) with 3 zeros\n",
    "np.zeros((3,3))   #2D array (3x3 matrix) with 9 zeros\n",
    "np.zeros((3,3,3)) #3D array (3 copies of 3x3 matrix, each with 9 zeros)"
   ]
  },
  {
   "cell_type": "markdown",
   "metadata": {},
   "source": [
    "### `np.ones()`\n",
    "\n",
    "Similarly, you can generate the same structures filled with 1's."
   ]
  },
  {
   "cell_type": "code",
   "execution_count": 38,
   "metadata": {},
   "outputs": [
    {
     "data": {
      "text/plain": [
       "array([[[1., 1., 1.],\n",
       "        [1., 1., 1.],\n",
       "        [1., 1., 1.]],\n",
       "\n",
       "       [[1., 1., 1.],\n",
       "        [1., 1., 1.],\n",
       "        [1., 1., 1.]],\n",
       "\n",
       "       [[1., 1., 1.],\n",
       "        [1., 1., 1.],\n",
       "        [1., 1., 1.]]])"
      ]
     },
     "execution_count": 38,
     "metadata": {},
     "output_type": "execute_result"
    }
   ],
   "source": [
    "np.ones(3)\n",
    "np.ones((1,3))\n",
    "np.ones((3,1))\n",
    "np.ones((3,3))\n",
    "np.ones((3,3,3))"
   ]
  },
  {
   "cell_type": "markdown",
   "metadata": {},
   "source": [
    "As an example, this might be a place where you'd like to specify an integer format with the  `dtype` keyword argument, which works with most numpy.array constructors."
   ]
  },
  {
   "cell_type": "code",
   "execution_count": 39,
   "metadata": {},
   "outputs": [
    {
     "data": {
      "text/plain": [
       "array([[1, 1, 1],\n",
       "       [1, 1, 1],\n",
       "       [1, 1, 1]])"
      ]
     },
     "execution_count": 39,
     "metadata": {},
     "output_type": "execute_result"
    }
   ],
   "source": [
    "np.ones((3, 3), dtype = 'int')"
   ]
  },
  {
   "cell_type": "markdown",
   "metadata": {},
   "source": [
    "### The Identity Matrix"
   ]
  },
  {
   "cell_type": "code",
   "execution_count": 40,
   "metadata": {},
   "outputs": [
    {
     "data": {
      "text/plain": [
       "array([[1., 0., 0., 0., 0.],\n",
       "       [0., 1., 0., 0., 0.],\n",
       "       [0., 0., 1., 0., 0.],\n",
       "       [0., 0., 0., 1., 0.],\n",
       "       [0., 0., 0., 0., 1.]])"
      ]
     },
     "execution_count": 40,
     "metadata": {},
     "output_type": "execute_result"
    }
   ],
   "source": [
    "np.identity(5)"
   ]
  },
  {
   "cell_type": "code",
   "execution_count": 43,
   "metadata": {},
   "outputs": [
    {
     "data": {
      "text/plain": [
       "array([[1., 0.],\n",
       "       [0., 1.],\n",
       "       [0., 0.],\n",
       "       [0., 0.],\n",
       "       [0., 0.]])"
      ]
     },
     "execution_count": 43,
     "metadata": {},
     "output_type": "execute_result"
    }
   ],
   "source": [
    "np.eye(2)\n",
    "np.eye(5)\n",
    "np.eye(5, 2)"
   ]
  },
  {
   "cell_type": "markdown",
   "metadata": {},
   "source": [
    "## Math on Numpy arrays\n",
    "\n",
    "### Elementwise operations (broadcasting)\n",
    "\n",
    "When performing mathematical operations on numpy arrays, ***the default is that they use element-by-element operations instead of linear algebra operations (e.g., matrix multiplication, matrix exponential, etc.)***.  This is best illustrated with an example.  Look at the output of the following:"
   ]
  },
  {
   "cell_type": "code",
   "execution_count": 44,
   "metadata": {},
   "outputs": [
    {
     "name": "stdout",
     "output_type": "stream",
     "text": [
      "[[2]\n",
      " [4]\n",
      " [6]\n",
      " [8]] \n",
      "\n",
      "[[ 1]\n",
      " [ 4]\n",
      " [ 9]\n",
      " [16]] \n",
      "\n",
      "[[ 1]\n",
      " [ 8]\n",
      " [27]\n",
      " [64]] \n",
      "\n",
      "[[1.]\n",
      " [1.]\n",
      " [1.]\n",
      " [1.]] \n",
      "\n",
      "[[ 1  2  3  4]\n",
      " [ 2  4  6  8]\n",
      " [ 3  6  9 12]\n",
      " [ 4  8 12 16]] \n",
      "\n",
      "[[ 1  4]\n",
      " [ 9 16]\n",
      " [25 36]] \n",
      "\n"
     ]
    }
   ],
   "source": [
    "print(col+col, '\\n') #This will add each element of col to itself\n",
    "print(col*col, '\\n') #same as above with multiplication\n",
    "print(col**3, '\\n')  #same as above, but cubing each element of column\n",
    "print(col/col, '\\n') #divide each element of col by each element of column\n",
    "print(col*row, '\\n') #you might think this is matrix multiplication, but it's not; it is element by element\n",
    "print(mat1*mat1, '\\n') #this is also not a matrix multiplication, it is element by element operation"
   ]
  },
  {
   "cell_type": "markdown",
   "metadata": {},
   "source": [
    "### Matrix Math\n",
    "\n",
    "If you want to multiply two matrices using linear algebra rules, it has special syntax.  First, you have to remember that dimensions are important when multiplying rows, columns, and matrices.  They all have to be correct. Their product returns a new matrix where each element (i,j) is the dot product of  row (i) and column (j). For this reason, the two matrices you intend to multiply must have dimensions (m x n) * (n x p), and their product returns a new matrix of dimensions (m x p).  As an illustration, a matrix can be multiplied by its transpose to return a square matrix (but the order matters):"
   ]
  },
  {
   "cell_type": "code",
   "execution_count": 45,
   "metadata": {},
   "outputs": [
    {
     "data": {
      "text/plain": [
       "array([[1, 3, 5],\n",
       "       [2, 4, 6]])"
      ]
     },
     "execution_count": 45,
     "metadata": {},
     "output_type": "execute_result"
    }
   ],
   "source": [
    "mat1       #A 3x2 matrix\n",
    "mat1.T     #A 2x3 matrix"
   ]
  },
  {
   "cell_type": "markdown",
   "metadata": {},
   "source": [
    "#### Matrix Multiplication\n",
    "\n",
    "There are various ways to perform matrix multiplication; all are more-or-less equivalent for our purposes; I generally use the @ syntax since it is the cleanest and easiest to understand when I read the code."
   ]
  },
  {
   "cell_type": "code",
   "execution_count": 48,
   "metadata": {},
   "outputs": [
    {
     "data": {
      "text/plain": [
       "array([[ 5, 11, 17],\n",
       "       [11, 25, 39],\n",
       "       [17, 39, 61]])"
      ]
     },
     "execution_count": 48,
     "metadata": {},
     "output_type": "execute_result"
    }
   ],
   "source": [
    "np.matmul(mat1, mat1.T) #their product is a 3x3 matrix\n",
    "mat1@mat1.T             #equivalent to above; recent addition to python as of 3.5\n",
    "np.dot(mat1, mat1.T)    #dot product of rows and columns; similar to above."
   ]
  },
  {
   "cell_type": "code",
   "execution_count": 50,
   "metadata": {},
   "outputs": [
    {
     "data": {
      "text/plain": [
       "array([[35, 44],\n",
       "       [44, 56]])"
      ]
     },
     "execution_count": 50,
     "metadata": {},
     "output_type": "execute_result"
    }
   ],
   "source": [
    "mat1@mat1.T\n",
    "mat1.T@mat1"
   ]
  },
  {
   "cell_type": "code",
   "execution_count": 52,
   "metadata": {},
   "outputs": [
    {
     "ename": "ValueError",
     "evalue": "matmul: Input operand 1 has a mismatch in its core dimension 0, with gufunc signature (n?,k),(k,m?)->(n?,m?) (size 1 is different from 4)",
     "output_type": "error",
     "traceback": [
      "\u001b[1;31m---------------------------------------------------------------------------\u001b[0m",
      "\u001b[1;31mValueError\u001b[0m                                Traceback (most recent call last)",
      "\u001b[1;32m~\\AppData\\Local\\Temp\\ipykernel_12900\\430029400.py\u001b[0m in \u001b[0;36m<module>\u001b[1;34m\u001b[0m\n\u001b[0;32m      1\u001b[0m \u001b[0mrow\u001b[0m\u001b[1;33m*\u001b[0m\u001b[0mcol\u001b[0m\u001b[1;33m.\u001b[0m\u001b[0mT\u001b[0m  \u001b[1;31m#(1 x 4) row * (1 x 4) row, elementwise\u001b[0m\u001b[1;33m\u001b[0m\u001b[1;33m\u001b[0m\u001b[0m\n\u001b[1;32m----> 2\u001b[1;33m \u001b[0mrow\u001b[0m\u001b[1;33m@\u001b[0m\u001b[0mcol\u001b[0m\u001b[1;33m.\u001b[0m\u001b[0mT\u001b[0m \u001b[1;31m#(1 x 4) x (1 x 4) matrix product; will return an error\u001b[0m\u001b[1;33m\u001b[0m\u001b[1;33m\u001b[0m\u001b[0m\n\u001b[0m",
      "\u001b[1;31mValueError\u001b[0m: matmul: Input operand 1 has a mismatch in its core dimension 0, with gufunc signature (n?,k),(k,m?)->(n?,m?) (size 1 is different from 4)"
     ]
    }
   ],
   "source": [
    "row*col.T  #(1 x 4) row * (1 x 4) row, elementwise\n",
    "row@col.T #(1 x 4) x (1 x 4) matrix product; will return an error"
   ]
  },
  {
   "cell_type": "markdown",
   "metadata": {},
   "source": [
    "#### Solving systems of linear equations\n",
    "\n",
    "In many cases, our systems can be described using a system of nonlinear equations.  An example that I use all the time in Kinetics is linear regression, which involves solving a linear system of equations by matrix inversion.  Since this is so commonly encountered, we'll briefly introduce it here.\n",
    "\n",
    "Let's say we have the following system of equations:\n",
    "\n",
    "\\begin{align}\n",
    "    2x + 3y + 4z &= 25 \\\\\n",
    "    15x + 12y - 10z &= 11 \\\\\n",
    "    1.6x - 4y + 23.2z &= -5\n",
    "\\end{align}\n",
    "\n",
    "This could be expressed in Matrix Form:\n",
    "\n",
    "$$AX = B$$\n",
    "\n",
    "Where:\n",
    "\n",
    "$$A = \n",
    "    \\begin{bmatrix} \n",
    "    2 & 3 & 4 \\\\\n",
    "    15 & 12 & -10 \\\\\n",
    "    1.6 & 4 & 23.2 \\\\\n",
    "    \\end{bmatrix}\n",
    "$$\n",
    "\n",
    "$$X = \n",
    "    \\begin{bmatrix} \n",
    "    x \\\\\n",
    "    y \\\\\n",
    "    z \\\\\n",
    "    \\end{bmatrix}\n",
    "$$\n",
    "\n",
    "$$B = \n",
    "    \\begin{bmatrix} \n",
    "    25 \\\\\n",
    "    11 \\\\\n",
    "    -5 \\\\\n",
    "    \\end{bmatrix}\n",
    "$$\n",
    "\n",
    "\n",
    "This problem can be solved for X as follows:\n",
    "\n",
    "$$X = A^{-1}B$$\n",
    "\n",
    "But it is generally computationally inefficient to invert matrices, so the preferred solution in Python is using `np.linalg.solve()`:"
   ]
  },
  {
   "cell_type": "code",
   "execution_count": 54,
   "metadata": {},
   "outputs": [
    {
     "name": "stdout",
     "output_type": "stream",
     "text": [
      "[[  2.    3.    4. ]\n",
      " [ 15.   12.  -10. ]\n",
      " [  1.6   4.   23.2]] \n",
      "\n",
      "[[25]\n",
      " [11]\n",
      " [-5]] \n",
      "\n",
      "[[-26.57671233]\n",
      " [ 31.02739726]\n",
      " [ -3.73219178]] \n",
      "\n",
      "[[25.]\n",
      " [11.]\n",
      " [-5.]]\n"
     ]
    }
   ],
   "source": [
    "A = np.array([[2, 3, 4], [15, 12, -10], [1.6, 4, 23.2]])\n",
    "B = np.array([[25], [11], [-5]])\n",
    "print(A, '\\n')\n",
    "print(B, '\\n')\n",
    "X = np.linalg.solve(A, B) #functionally equivalent to np.linalg.inv(A)@B\n",
    "print(X, '\\n')\n",
    "print(A@X)"
   ]
  }
 ],
 "metadata": {
  "kernelspec": {
   "display_name": "Python 3 (ipykernel)",
   "language": "python",
   "name": "python3"
  },
  "language_info": {
   "codemirror_mode": {
    "name": "ipython",
    "version": 3
   },
   "file_extension": ".py",
   "mimetype": "text/x-python",
   "name": "python",
   "nbconvert_exporter": "python",
   "pygments_lexer": "ipython3",
   "version": "3.9.13"
  }
 },
 "nbformat": 4,
 "nbformat_minor": 4
}
